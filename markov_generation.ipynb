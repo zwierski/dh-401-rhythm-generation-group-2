{
 "cells": [
  {
   "cell_type": "code",
   "execution_count": 73,
   "metadata": {},
   "outputs": [],
   "source": [
    "import numpy as np\n",
    "import pandas as pd\n",
    "import music21\n",
    "\n",
    "np.random.seed(401)"
   ]
  },
  {
   "cell_type": "code",
   "execution_count": 74,
   "metadata": {},
   "outputs": [
    {
     "data": {
      "text/html": [
       "<div>\n",
       "<style scoped>\n",
       "    .dataframe tbody tr th:only-of-type {\n",
       "        vertical-align: middle;\n",
       "    }\n",
       "\n",
       "    .dataframe tbody tr th {\n",
       "        vertical-align: top;\n",
       "    }\n",
       "\n",
       "    .dataframe thead th {\n",
       "        text-align: right;\n",
       "    }\n",
       "</style>\n",
       "<table border=\"1\" class=\"dataframe\">\n",
       "  <thead>\n",
       "    <tr style=\"text-align: right;\">\n",
       "      <th></th>\n",
       "      <th>piece</th>\n",
       "      <th>notes</th>\n",
       "    </tr>\n",
       "  </thead>\n",
       "  <tbody>\n",
       "    <tr>\n",
       "      <th>0</th>\n",
       "      <td>./abc/1b651a94a8f8680da3cef1e60705194d.abc</td>\n",
       "      <td>[[1, 3, 5, 6, 7, 8, 9, 11], [1, 3, 5, 6, 7, 8,...</td>\n",
       "    </tr>\n",
       "    <tr>\n",
       "      <th>1</th>\n",
       "      <td>./abc/3679c385a618c89f00d159f418022b39.abc</td>\n",
       "      <td>[[1, 3, 4, 5, 7, 8, 9, 11], [1, 4, 5, 6, 7, 8,...</td>\n",
       "    </tr>\n",
       "    <tr>\n",
       "      <th>2</th>\n",
       "      <td>./abc/60ae81952628613e03d563b0dae8bbc2.abc</td>\n",
       "      <td>[[1, 4, 5, 7, 9, 10, 11, 12], [1, 3, 5, 9, 11]]</td>\n",
       "    </tr>\n",
       "    <tr>\n",
       "      <th>3</th>\n",
       "      <td>./abc/6a7d307d1f0712090e4043a6b4637efa.abc</td>\n",
       "      <td>[[1, 5, 9], [1, 1, 3, 4, 5, 7, 9, 11], [1, 4, ...</td>\n",
       "    </tr>\n",
       "    <tr>\n",
       "      <th>4</th>\n",
       "      <td>./abc/8c6965e3c831e8cb769e578423c12d1e.abc</td>\n",
       "      <td>[[1, 5, 7, 8, 9], [1, 3, 4, 5, 6, 7, 8, 9, 10,...</td>\n",
       "    </tr>\n",
       "  </tbody>\n",
       "</table>\n",
       "</div>"
      ],
      "text/plain": [
       "                                        piece  \\\n",
       "0  ./abc/1b651a94a8f8680da3cef1e60705194d.abc   \n",
       "1  ./abc/3679c385a618c89f00d159f418022b39.abc   \n",
       "2  ./abc/60ae81952628613e03d563b0dae8bbc2.abc   \n",
       "3  ./abc/6a7d307d1f0712090e4043a6b4637efa.abc   \n",
       "4  ./abc/8c6965e3c831e8cb769e578423c12d1e.abc   \n",
       "\n",
       "                                               notes  \n",
       "0  [[1, 3, 5, 6, 7, 8, 9, 11], [1, 3, 5, 6, 7, 8,...  \n",
       "1  [[1, 3, 4, 5, 7, 8, 9, 11], [1, 4, 5, 6, 7, 8,...  \n",
       "2    [[1, 4, 5, 7, 9, 10, 11, 12], [1, 3, 5, 9, 11]]  \n",
       "3  [[1, 5, 9], [1, 1, 3, 4, 5, 7, 9, 11], [1, 4, ...  \n",
       "4  [[1, 5, 7, 8, 9], [1, 3, 4, 5, 6, 7, 8, 9, 10,...  "
      ]
     },
     "execution_count": 74,
     "metadata": {},
     "output_type": "execute_result"
    }
   ],
   "source": [
    "data = pd.read_csv('data_mapped.csv')\n",
    "data.head()"
   ]
  },
  {
   "cell_type": "code",
   "execution_count": 75,
   "metadata": {},
   "outputs": [],
   "source": [
    "import ast\n",
    "# change the note column to list\n",
    "data['notes'] = data['notes'].apply(ast.literal_eval)"
   ]
  },
  {
   "cell_type": "code",
   "execution_count": 76,
   "metadata": {},
   "outputs": [
    {
     "name": "stdout",
     "output_type": "stream",
     "text": [
      "49\n"
     ]
    }
   ],
   "source": [
    "from collections import defaultdict\n",
    "from collections import Counter\n",
    "\n",
    "# get the bigram of the music data\n",
    "bigram = []\n",
    "bigram_freq = defaultdict(int)\n",
    "\n",
    "# get the bigram of each song\n",
    "for i in range(len(data)):\n",
    "    for bar in data.loc[i,'notes']:\n",
    "        bigram.extend(zip(bar, bar[1:]))\n",
    "    \n",
    "# print(bigram)\n",
    "\n",
    "# get the frequency of every bigram\n",
    "bigram_freq = dict(Counter(bigram))\n",
    "print(len(bigram_freq))\n"
   ]
  },
  {
   "cell_type": "code",
   "execution_count": 77,
   "metadata": {},
   "outputs": [
    {
     "name": "stdout",
     "output_type": "stream",
     "text": [
      "49\n"
     ]
    }
   ],
   "source": [
    "# remove the identical bigram\n",
    "for key in bigram_freq:\n",
    "    if key[0] == key[1]:\n",
    "        key = (0,0)\n",
    "print(len(bigram_freq))"
   ]
  },
  {
   "cell_type": "code",
   "execution_count": 78,
   "metadata": {},
   "outputs": [],
   "source": [
    "def predict_next_state(bigram_freq, current_state):\n",
    "    \"\"\"\n",
    "    predict the next state based on the bigram frequency\n",
    "    \"\"\"\n",
    "    # get the possible next states\n",
    "    possible_next_states = [k[1] for k, v in bigram_freq.items() if k[0] == current_state]\n",
    "    # get the frequency of each possible next state\n",
    "    freq = [v for k, v in bigram_freq.items() if k[0] == current_state]\n",
    "    # normalize the frequency\n",
    "    freq = np.array(freq) / np.sum(freq)\n",
    "    # predict the next state\n",
    "    next_state = np.random.choice(possible_next_states, p=freq)\n",
    "    return next_state"
   ]
  },
  {
   "cell_type": "code",
   "execution_count": 79,
   "metadata": {},
   "outputs": [],
   "source": [
    "def generate_sequence(bigram_freq, start_state, length, num_bars):\n",
    "    \"\"\"\n",
    "    generate a sequence based on the bigram frequency\n",
    "    \"\"\"\n",
    "    # initialize the sequence\n",
    "    sequence = [[start_state] for i in range(num_bars)]\n",
    "    # generate the sequence\n",
    "    for i in range(len(sequence)):\n",
    "        for j in range(length):\n",
    "            next_state = predict_next_state(bigram_freq, sequence[i][-1])\n",
    "            if next_state == 12:\n",
    "                break\n",
    "            # randomly stop if the length has reached 4\n",
    "            if len(sequence[i]) >= 4 and j >= 8:\n",
    "                if np.random.random() > 0.5:\n",
    "                    break\n",
    "            sequence[i].append(next_state)\n",
    "    return sequence"
   ]
  },
  {
   "cell_type": "code",
   "execution_count": 80,
   "metadata": {},
   "outputs": [
    {
     "name": "stdout",
     "output_type": "stream",
     "text": [
      "[[1, 2, 3, 4, 5, 7, 8, 9], [1, 3, 4, 5, 7, 9, 11], [1, 3, 4, 5, 7, 8, 9, 11], [1, 2, 3, 5, 6, 7, 9, 11], [1, 2, 3, 4, 5, 6, 7, 8, 9, 11], [1, 2, 3, 5, 9, 11], [1, 3, 4, 5, 7, 8, 9, 11], [1, 3, 4, 5, 7, 8, 9, 11]]\n"
     ]
    }
   ],
   "source": [
    "# generate a sequence based on the bigram frequency\n",
    "sequence = generate_sequence(bigram_freq, 1, 12,8)\n",
    "print(sequence)"
   ]
  },
  {
   "cell_type": "code",
   "execution_count": 81,
   "metadata": {},
   "outputs": [],
   "source": [
    "# Function that maps a series of numbers between 1 and 12 (position of each sixteenth-note in the bar) to a music21 beat distribution\n",
    "def map_beats_reverse(notes):\n",
    "    notes_mapped = []\n",
    "    for bar in notes:\n",
    "        bar_mapped = []\n",
    "        for y in bar:\n",
    "            bar_mapped.append((y+3)/4)\n",
    "        notes_mapped.append(bar_mapped)\n",
    "    return notes_mapped"
   ]
  },
  {
   "cell_type": "code",
   "execution_count": 82,
   "metadata": {},
   "outputs": [
    {
     "name": "stdout",
     "output_type": "stream",
     "text": [
      "[[1.0, 1.25, 1.5, 1.75, 2.0, 2.5, 2.75, 3.0], [1.0, 1.5, 1.75, 2.0, 2.5, 3.0, 3.5], [1.0, 1.5, 1.75, 2.0, 2.5, 2.75, 3.0, 3.5], [1.0, 1.25, 1.5, 2.0, 2.25, 2.5, 3.0, 3.5], [1.0, 1.25, 1.5, 1.75, 2.0, 2.25, 2.5, 2.75, 3.0, 3.5], [1.0, 1.25, 1.5, 2.0, 3.0, 3.5], [1.0, 1.5, 1.75, 2.0, 2.5, 2.75, 3.0, 3.5], [1.0, 1.5, 1.75, 2.0, 2.5, 2.75, 3.0, 3.5]]\n"
     ]
    }
   ],
   "source": [
    "new_sequence = map_beats_reverse(sequence)\n",
    "print(new_sequence)"
   ]
  },
  {
   "cell_type": "code",
   "execution_count": 83,
   "metadata": {},
   "outputs": [],
   "source": [
    "def convert_to_duration(random_song_list):\n",
    "    last = 4.0\n",
    "    # read the list backwards\n",
    "    random_song_list.reverse()\n",
    "    # create a list with the duration of each note\n",
    "    duration_list = []\n",
    "    for bar in random_song_list:\n",
    "        # reverse the inner list\n",
    "        bar.reverse()\n",
    "        for note in bar:\n",
    "            duration_list.append(last - note)\n",
    "            last = note\n",
    "        last += 4.0\n",
    "    # reverse the list again\n",
    "    duration_list.reverse()\n",
    "    return duration_list"
   ]
  },
  {
   "cell_type": "code",
   "execution_count": 84,
   "metadata": {},
   "outputs": [],
   "source": [
    "def convert_to_stream(duration_list):\n",
    "    # create an empty stream\n",
    "    stream = music21.stream.Stream()\n",
    "    # define the tempo as 3/4\n",
    "    stream.append(music21.meter.TimeSignature('3/4'))\n",
    "    # create note\n",
    "    # assign random pitch (C4)\n",
    "    # assign duration (quarter)\n",
    "    # append the note into empty stream\n",
    "    for duration in duration_list:\n",
    "        note = music21.note.Note(pitch='C4', quarterLength=duration)\n",
    "        stream.append(note)\n",
    "    return stream"
   ]
  },
  {
   "cell_type": "code",
   "execution_count": 85,
   "metadata": {},
   "outputs": [
    {
     "data": {
      "text/html": [
       "\n",
       "                <div id=\"midiPlayerDiv3463\"></div>\n",
       "                <link rel=\"stylesheet\" href=\"//cuthbertLab.github.io/music21j/css/m21.css\"\n",
       "                    type=\"text/css\" />\n",
       "                \n",
       "                <script>\n",
       "                require.config({\n",
       "                    paths: {'music21': '//cuthbertLab.github.io/music21j/src/music21'}\n",
       "                });\n",
       "                require(['music21'], function() {\n",
       "                               mp = new music21.miditools.MidiPlayer();\n",
       "                               mp.addPlayer(\"#midiPlayerDiv3463\");\n",
       "                               mp.base64Load(\"data:audio/midi;base64,TVRoZAAAAAYAAQACBABNVHJrAAAAFAD/UQMHoSAA/1gEAwIYCIgA/y8ATVRyawAAAkUA/wMAAOAAQIgAkDxaggCAPAAAkDxaggCAPAAAkDxaggCAPAAAkDxaggCAPAAAkDxahACAPAAAkDxaggCAPAAAkDxaggCAPAAAkDxakACAPAAAkDxahACAPAAAkDxaggCAPAAAkDxaggCAPAAAkDxahACAPAAAkDxahACAPAAAkDxahACAPAAAkDxajACAPAAAkDxahACAPAAAkDxaggCAPAAAkDxaggCAPAAAkDxahACAPAAAkDxaggCAPAAAkDxaggCAPAAAkDxahACAPAAAkDxajACAPAAAkDxaggCAPAAAkDxaggCAPAAAkDxahACAPAAAkDxaggCAPAAAkDxaggCAPAAAkDxahACAPAAAkDxahACAPAAAkDxajACAPAAAkDxaggCAPAAAkDxaggCAPAAAkDxaggCAPAAAkDxaggCAPAAAkDxaggCAPAAAkDxaggCAPAAAkDxaggCAPAAAkDxaggCAPAAAkDxahACAPAAAkDxajACAPAAAkDxaggCAPAAAkDxaggCAPAAAkDxahACAPAAAkDxaiACAPAAAkDxahACAPAAAkDxajACAPAAAkDxahACAPAAAkDxaggCAPAAAkDxaggCAPAAAkDxahACAPAAAkDxaggCAPAAAkDxaggCAPAAAkDxahACAPAAAkDxajACAPAAAkDxahACAPAAAkDxaggCAPAAAkDxaggCAPAAAkDxahACAPAAAkDxaggCAPAAAkDxaggCAPAAAkDxahACAPAAAkDxahACAPACIAP8vAA==\");\n",
       "                        });\n",
       "                </script>"
      ],
      "text/plain": [
       "<IPython.core.display.HTML object>"
      ]
     },
     "metadata": {},
     "output_type": "display_data"
    }
   ],
   "source": [
    "stream_example = convert_to_stream(convert_to_duration(new_sequence))\n",
    "# hear the midi file\n",
    "stream_example.show('midi')"
   ]
  }
 ],
 "metadata": {
  "kernelspec": {
   "display_name": "base",
   "language": "python",
   "name": "python3"
  },
  "language_info": {
   "codemirror_mode": {
    "name": "ipython",
    "version": 3
   },
   "file_extension": ".py",
   "mimetype": "text/x-python",
   "name": "python",
   "nbconvert_exporter": "python",
   "pygments_lexer": "ipython3",
   "version": "3.9.13"
  },
  "orig_nbformat": 4
 },
 "nbformat": 4,
 "nbformat_minor": 2
}
