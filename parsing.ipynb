{
 "cells": [
  {
   "attachments": {},
   "cell_type": "markdown",
   "metadata": {},
   "source": [
    "**Goal:** Parse the abc music files to only get the elements related to the rhythm."
   ]
  },
  {
   "cell_type": "code",
   "execution_count": 1,
   "metadata": {},
   "outputs": [],
   "source": [
    "# Imports\n",
    "import pandas as pd\n",
    "import music21 as m21"
   ]
  },
  {
   "cell_type": "code",
   "execution_count": 17,
   "metadata": {},
   "outputs": [
    {
     "name": "stdout",
     "output_type": "stream",
     "text": [
      "{0.0} <music21.meter.TimeSignature 3/4>\n"
     ]
    }
   ],
   "source": [
    "# Test: get one file from the dataset\n",
    "\n",
    "path = \"./abc/_1814_698087.abc\"\n",
    "\n",
    "sample = m21.converter.parse(path) # this produces a Score object\n",
    "\n",
    "sample.getTimeSignatures().show('text') # shows that at measure 0 (not sure) the time signature is 3/4"
   ]
  },
  {
   "cell_type": "code",
   "execution_count": 46,
   "metadata": {},
   "outputs": [
    {
     "name": "stdout",
     "output_type": "stream",
     "text": [
      "<music21.duration.Duration 0.5>\n",
      "1\n"
     ]
    }
   ],
   "source": [
    "part = sample.parts[0] # can we assume that each song in the dataset has only one part?\n",
    "\n",
    "n = part.recurse().notes[0] # example: first note in the score\n",
    "\n",
    "print(n.duration) # duration of the note in terms of the beat (e. g. quarter note => 1). not in term of the smallest duration\n",
    "print(n.beatStr) # says on which beat in the measure the note lands (e. g. 1 => on the first beat)\n",
    "\n",
    "# how to find the smallest duration in a score?"
   ]
  }
 ],
 "metadata": {
  "kernelspec": {
   "display_name": "ada",
   "language": "python",
   "name": "python3"
  },
  "language_info": {
   "codemirror_mode": {
    "name": "ipython",
    "version": 3
   },
   "file_extension": ".py",
   "mimetype": "text/x-python",
   "name": "python",
   "nbconvert_exporter": "python",
   "pygments_lexer": "ipython3",
   "version": "3.9.13"
  },
  "orig_nbformat": 4
 },
 "nbformat": 4,
 "nbformat_minor": 2
}
