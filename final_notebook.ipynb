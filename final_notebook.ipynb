{
 "cells": [
  {
   "attachments": {},
   "cell_type": "markdown",
   "metadata": {},
   "source": [
    "**Assignment 1: Generating \"Human-Like Rhythms from a given corpus**"
   ]
  },
  {
   "attachments": {},
   "cell_type": "markdown",
   "metadata": {},
   "source": [
    "**Part 1: Preprocessing - Parsing the dataset**\n",
    "\n",
    "**Goal:** Parse the abc music files to only get the elements related to the rhythm. We will use music21 to obtain, from each piece's abc file, a list of bars with each bar containing the beats on which a note appears. Then, we will create a Dataframe of all the pieces encoded in list form, which we can split to use as a training set and a test set."
   ]
  },
  {
   "cell_type": "code",
   "execution_count": 55,
   "metadata": {},
   "outputs": [],
   "source": [
    "# !pip install music21\n",
    "# !pip install textract\n",
    "# !pip install networkx\n",
    "\n",
    "import pandas as pd\n",
    "import numpy as np\n",
    "import ast\n",
    "import music21\n",
    "import os\n",
    "import textract\n",
    "import pathlib\n",
    "from collections import defaultdict\n",
    "from collections import Counter\n",
    "import networkx as nx\n",
    "import seaborn as sns\n",
    "import matplotlib.pyplot as plt\n",
    "%matplotlib inline"
   ]
  },
  {
   "cell_type": "code",
   "execution_count": 56,
   "metadata": {},
   "outputs": [],
   "source": [
    "# Function that, from an abc file, gets the beat distribution of every bar of the piece\n",
    "# Returns an array (piece) of arrays (bars)\n",
    "def extractBeatArray(path):\n",
    "\n",
    "    # getting the parsable score\n",
    "    sample = music21.converter.parse(path)\n",
    "    part = sample.parts[0]\n",
    "    notes = part.recurse().notes\n",
    "    length_in_bars = int(sample.duration.quarterLength/sample.getTimeSignatures()[0].numerator) \n",
    "    # should be numerator*(denominator/4), but here denominator is already 4 since all pieces are in 3/4\n",
    "    \n",
    "    bars = []\n",
    "\n",
    "    # iteratively adding every beat of every bar. Each bar is a list and the piece is a list of bars i.e. a list of lists\n",
    "    for i in range(0, length_in_bars):\n",
    "        if part.measure(i) is not None:\n",
    "            notes = part.measure(i).notes\n",
    "            beats = []\n",
    "            for n in notes:\n",
    "                beats.append(n.beat)\n",
    "                    \n",
    "        bars.append(beats)\n",
    "        i += 1\n",
    "\n",
    "    return bars"
   ]
  },
  {
   "cell_type": "code",
   "execution_count": 57,
   "metadata": {},
   "outputs": [
    {
     "name": "stdout",
     "output_type": "stream",
     "text": [
      "599 pieces were analysed.\n",
      "585 pieces were correctly parsed.\n"
     ]
    }
   ],
   "source": [
    "# Parsing the dataset with the above function\n",
    "\n",
    "data = pd.DataFrame(columns=['piece', 'notes'])\n",
    "\n",
    "path = \"./abc/_1814_698087.abc\"\n",
    "\n",
    "directory = './abc'\n",
    "\n",
    "pieces = 0 # check every piece in the directory (599) is encoded\n",
    "\n",
    "for name in os.listdir(directory):\n",
    "    pieces += 1\n",
    "    path = directory + '/' + name \n",
    "    bars = []\n",
    "    try:\n",
    "        bars = extractBeatArray(path)\n",
    "    except:\n",
    "        bars = []\n",
    "\n",
    "    if (bars != []): # not adding unparsed pieces to dataframe\n",
    "        data.loc[len(data)] = [path, bars]\n",
    "\n",
    "\n",
    "print(f\"{pieces} pieces were analysed.\")    \n",
    "\n",
    "print(f\"{len(data)} pieces were correctly parsed.\")"
   ]
  },
  {
   "cell_type": "code",
   "execution_count": 58,
   "metadata": {},
   "outputs": [],
   "source": [
    "# List of pieces that throw an exception (9)\n",
    "exceptions = ['./abc/Näckapolska_efter_Anders_Bredal_c55b3d.abc', './abc/Pollonesse_ur_Andreas_Dahlgrens_notbok_no_84_f2a90d.abc',\n",
    "'./abc/Polonäs_a39d56.abc', './abc/Polonäs_efter_Pehr_Andersson_Bild_30_nr_90_d06dcf.abc', './abc/Slängpolska_efter_Olof_Larsson_2f914f.abc',\n",
    "'./abc/_Polonesse_in_G_Moll_no_1_ur_Anders_Larssons_notbok_61aa5e.abc', './abc/_Polonesse_in_G_Måll_no_2_769438.abc', \n",
    "'./abc/_Polonäs_sexdregasamlingen_del_2_nr_70_1b9662.abc', './abc/_Polska_Kringellåt_efter_Snickar_Erik_985b63.abc']\n",
    "\n",
    "# Testing: 14 pieces are registered as note-less, for some reason. The 9 ones that threw an exception + 5 unknown others. \n",
    "# We choose to omit them from the dataset."
   ]
  },
  {
   "cell_type": "code",
   "execution_count": 59,
   "metadata": {},
   "outputs": [],
   "source": [
    "# Function that maps the beat distribution of a bar to a series of numbers between 1 and 12 (position of each sixteenth-note in the bar)\n",
    "def map_beats(notes):\n",
    "    notes_mapped = []\n",
    "    for bar in notes:\n",
    "        bar_mapped = []\n",
    "        for x in bar:\n",
    "            bar_mapped.append(int(4*(x-1)+1))\n",
    "        notes_mapped.append(bar_mapped)\n",
    "    return notes_mapped"
   ]
  },
  {
   "cell_type": "code",
   "execution_count": 60,
   "metadata": {},
   "outputs": [],
   "source": [
    "# Function that maps a series of numbers between 1 and 12 (position of each sixteenth-note in the bar) to a music21 beat distribution\n",
    "def map_beats_reverse(notes):\n",
    "    notes_mapped = []\n",
    "    for bar in notes:\n",
    "        bar_mapped = []\n",
    "        for y in bar:\n",
    "            bar_mapped.append((y+3)/4)\n",
    "        notes_mapped.append(bar_mapped)\n",
    "    return notes_mapped"
   ]
  },
  {
   "cell_type": "code",
   "execution_count": 61,
   "metadata": {},
   "outputs": [
    {
     "name": "stdout",
     "output_type": "stream",
     "text": [
      "[[1.0, 1.5, 2.0, 3.0], [1.0, 1.5, 2.0, 3.0], [1.0, 1.75, 2.0, 2.5, 3.0, 3.5], [1.0, 1.5, 1.75, 2.0, 2.5, 3.0, 3.5], [1.0, 1.5, 2.0, 3.0], [1.0, 1.5, 2.0, 3.0], [1.0, 1.75, 2.0, 2.5, 3.0, 3.5], [1.0, 1.5, 2.0], [1.0, 1.5, 2.0, 2.5, 3.0, 3.5], [1.0, 1.5, 2.0, 2.5, 3.0, 3.5], [1.0, 1.75, 2.0, 2.5, 3.0, 3.5], [1.0, 2.0, 2.25, 2.5, 2.75, 3.0, 3.5], [1.0, 1.5, 2.0, 2.5, 3.0, 3.5], [1.0, 1.5, 2.0, 2.5, 3.0, 3.5], [1.0, 1.75, 2.0, 2.5, 3.0, 3.5], [1.0, 2.0]]\n",
      "[[1, 3, 5, 9], [1, 3, 5, 9], [1, 4, 5, 7, 9, 11], [1, 3, 4, 5, 7, 9, 11], [1, 3, 5, 9], [1, 3, 5, 9], [1, 4, 5, 7, 9, 11], [1, 3, 5], [1, 3, 5, 7, 9, 11], [1, 3, 5, 7, 9, 11], [1, 4, 5, 7, 9, 11], [1, 5, 6, 7, 8, 9, 11], [1, 3, 5, 7, 9, 11], [1, 3, 5, 7, 9, 11], [1, 4, 5, 7, 9, 11], [1, 5]]\n",
      "[[1.0, 1.5, 2.0, 3.0], [1.0, 1.5, 2.0, 3.0], [1.0, 1.75, 2.0, 2.5, 3.0, 3.5], [1.0, 1.5, 1.75, 2.0, 2.5, 3.0, 3.5], [1.0, 1.5, 2.0, 3.0], [1.0, 1.5, 2.0, 3.0], [1.0, 1.75, 2.0, 2.5, 3.0, 3.5], [1.0, 1.5, 2.0], [1.0, 1.5, 2.0, 2.5, 3.0, 3.5], [1.0, 1.5, 2.0, 2.5, 3.0, 3.5], [1.0, 1.75, 2.0, 2.5, 3.0, 3.5], [1.0, 2.0, 2.25, 2.5, 2.75, 3.0, 3.5], [1.0, 1.5, 2.0, 2.5, 3.0, 3.5], [1.0, 1.5, 2.0, 2.5, 3.0, 3.5], [1.0, 1.75, 2.0, 2.5, 3.0, 3.5], [1.0, 2.0]]\n"
     ]
    }
   ],
   "source": [
    "# Testing the function\n",
    "example_notes = data[data['piece'] == './abc/_1814_698087.abc']['notes'].tolist()[0]\n",
    "# when we retrieve a specific piece and convert to list it wraps the piece's array in another array for some reason, hence the [0]\n",
    "# but when doing iterrows we don't have that problem\n",
    "print(example_notes)\n",
    "map_12 = map_beats(example_notes)\n",
    "print(map_12)\n",
    "print(map_beats_reverse(map_12))"
   ]
  },
  {
   "cell_type": "code",
   "execution_count": 62,
   "metadata": {},
   "outputs": [
    {
     "name": "stdout",
     "output_type": "stream",
     "text": [
      "Done\n"
     ]
    },
    {
     "data": {
      "text/html": [
       "<div>\n",
       "<style scoped>\n",
       "    .dataframe tbody tr th:only-of-type {\n",
       "        vertical-align: middle;\n",
       "    }\n",
       "\n",
       "    .dataframe tbody tr th {\n",
       "        vertical-align: top;\n",
       "    }\n",
       "\n",
       "    .dataframe thead th {\n",
       "        text-align: right;\n",
       "    }\n",
       "</style>\n",
       "<table border=\"1\" class=\"dataframe\">\n",
       "  <thead>\n",
       "    <tr style=\"text-align: right;\">\n",
       "      <th></th>\n",
       "      <th>piece</th>\n",
       "      <th>notes</th>\n",
       "    </tr>\n",
       "  </thead>\n",
       "  <tbody>\n",
       "    <tr>\n",
       "      <th>0</th>\n",
       "      <td>./abc/1b651a94a8f8680da3cef1e60705194d.abc</td>\n",
       "      <td>[[1, 3, 5, 6, 7, 8, 9, 11], [1, 3, 5, 6, 7, 8,...</td>\n",
       "    </tr>\n",
       "    <tr>\n",
       "      <th>1</th>\n",
       "      <td>./abc/3679c385a618c89f00d159f418022b39.abc</td>\n",
       "      <td>[[1, 3, 4, 5, 7, 8, 9, 11], [1, 4, 5, 6, 7, 8,...</td>\n",
       "    </tr>\n",
       "    <tr>\n",
       "      <th>2</th>\n",
       "      <td>./abc/60ae81952628613e03d563b0dae8bbc2.abc</td>\n",
       "      <td>[[1, 4, 5, 7, 9, 10, 11, 12], [1, 3, 5, 9, 11]]</td>\n",
       "    </tr>\n",
       "    <tr>\n",
       "      <th>3</th>\n",
       "      <td>./abc/6a7d307d1f0712090e4043a6b4637efa.abc</td>\n",
       "      <td>[[1, 5, 9], [1, 1, 3, 4, 5, 7, 9, 11], [1, 4, ...</td>\n",
       "    </tr>\n",
       "    <tr>\n",
       "      <th>4</th>\n",
       "      <td>./abc/8c6965e3c831e8cb769e578423c12d1e.abc</td>\n",
       "      <td>[[1, 5, 7, 8, 9], [1, 3, 4, 5, 6, 7, 8, 9, 10,...</td>\n",
       "    </tr>\n",
       "  </tbody>\n",
       "</table>\n",
       "</div>"
      ],
      "text/plain": [
       "                                        piece  \\\n",
       "0  ./abc/1b651a94a8f8680da3cef1e60705194d.abc   \n",
       "1  ./abc/3679c385a618c89f00d159f418022b39.abc   \n",
       "2  ./abc/60ae81952628613e03d563b0dae8bbc2.abc   \n",
       "3  ./abc/6a7d307d1f0712090e4043a6b4637efa.abc   \n",
       "4  ./abc/8c6965e3c831e8cb769e578423c12d1e.abc   \n",
       "\n",
       "                                               notes  \n",
       "0  [[1, 3, 5, 6, 7, 8, 9, 11], [1, 3, 5, 6, 7, 8,...  \n",
       "1  [[1, 3, 4, 5, 7, 8, 9, 11], [1, 4, 5, 6, 7, 8,...  \n",
       "2    [[1, 4, 5, 7, 9, 10, 11, 12], [1, 3, 5, 9, 11]]  \n",
       "3  [[1, 5, 9], [1, 1, 3, 4, 5, 7, 9, 11], [1, 4, ...  \n",
       "4  [[1, 5, 7, 8, 9], [1, 3, 4, 5, 6, 7, 8, 9, 10,...  "
      ]
     },
     "execution_count": 62,
     "metadata": {},
     "output_type": "execute_result"
    }
   ],
   "source": [
    "# Using the mapping function on every piece\n",
    "data_mapped = data.copy()\n",
    "\n",
    "for _, d in data_mapped.iterrows():\n",
    "    d['notes'] = map_beats(d['notes'])\n",
    "\n",
    "print(\"Done\")\n",
    "\n",
    "data_mapped.head() # our dataframe for the model!"
   ]
  },
  {
   "cell_type": "code",
   "execution_count": 63,
   "metadata": {},
   "outputs": [
    {
     "name": "stdout",
     "output_type": "stream",
     "text": [
      "438\n",
      "147\n"
     ]
    }
   ],
   "source": [
    "# Splitting the data into train and test\n",
    "from sklearn.model_selection import train_test_split\n",
    "# set random seed for reproducibility\n",
    "x_train, x_test = train_test_split(data_mapped, random_state=42) # split 75% train 25% test\n",
    "\n",
    "print(len(x_train))\n",
    "print(len(x_test))"
   ]
  },
  {
   "cell_type": "code",
   "execution_count": 64,
   "metadata": {},
   "outputs": [],
   "source": [
    "# Writing train and test to csv\n",
    "x_train.to_csv(\"train.csv\", index=False)\n",
    "x_test.to_csv(\"test.csv\", index=False)"
   ]
  },
  {
   "attachments": {},
   "cell_type": "markdown",
   "metadata": {},
   "source": [
    "**Part 2: The Random Model**\n",
    "\n",
    "**Goal:** generate random 8-bar rhythms. The only constraint is the the minimal note duration is a sixteenth note."
   ]
  },
  {
   "cell_type": "code",
   "execution_count": 91,
   "metadata": {},
   "outputs": [],
   "source": [
    "import random\n",
    "\n",
    "random.seed(1113)"
   ]
  },
  {
   "cell_type": "code",
   "execution_count": 92,
   "metadata": {},
   "outputs": [],
   "source": [
    "# function to fill a bar with random notes\n",
    "def random_bar():\n",
    "    # first = True\n",
    "    first = False\n",
    "    # first decide how many notes are in the bar\n",
    "    # (the tempo is always 3/4)\n",
    "    bar = []\n",
    "    for i in range(11):\n",
    "        # decide if a note is played\n",
    "        if first:\n",
    "            bar.append(1.0)\n",
    "            first = False\n",
    "        elif random.random() < 0.5:\n",
    "            # if yes, decide which note\n",
    "            bar.append((i/4)+1)\n",
    "        # check that the bar is not empty\n",
    "    if len(bar) == 0:\n",
    "        bar = random_bar()\n",
    "    return bar\n",
    "\n",
    "# function to create a random song\n",
    "def create_random_song():\n",
    "    # make a list with 8 lists (bars) inside\n",
    "    n_bars = 8\n",
    "    random_song = [[] for j in range(n_bars)]\n",
    "    # for each list in random_song fill it with random notes\n",
    "    for i in range(n_bars):\n",
    "        random_song[i] = random_bar()\n",
    "    return random_song"
   ]
  },
  {
   "cell_type": "code",
   "execution_count": 93,
   "metadata": {},
   "outputs": [
    {
     "name": "stdout",
     "output_type": "stream",
     "text": [
      "Random song example: \n",
      "[[1.0, 1.25, 1.75, 2.0, 2.5, 3.0], [1.0, 1.75, 2.0, 2.75, 3.25, 3.5], [1.25, 1.5, 2.0, 2.25, 3.0, 3.25], [1.0, 1.25, 3.25, 3.5], [1.0, 2.0, 2.75, 3.0, 3.25, 3.5], [1.0, 1.25, 1.5, 2.0, 2.25, 3.25], [1.25, 1.75, 2.0, 2.5, 3.25], [1.75, 2.0, 2.25, 2.5, 3.0]]\n"
     ]
    }
   ],
   "source": [
    "# example\n",
    "random_song = create_random_song()\n",
    "print('Random song example: ')\n",
    "print(random_song)"
   ]
  },
  {
   "cell_type": "code",
   "execution_count": 94,
   "metadata": {},
   "outputs": [],
   "source": [
    "# function to convert from beats into durations\n",
    "def convert_to_duration(random_song_list):\n",
    "    last = 4.0\n",
    "    # read the list backwards\n",
    "    random_song_list.reverse()\n",
    "    # create a list with the duration of each note\n",
    "    duration_list = []\n",
    "    for bar in random_song_list:\n",
    "        # reverse the inner list\n",
    "        bar.reverse()\n",
    "        for note in bar:\n",
    "            duration_list.append(last - note)\n",
    "            last = note\n",
    "        last += 4.0\n",
    "    # reverse the list again\n",
    "    duration_list.reverse()\n",
    "    # return original order to original song aswell\n",
    "    random_song_list.reverse()\n",
    "    for bar in random_song_list:\n",
    "        bar.reverse()\n",
    "    return duration_list"
   ]
  },
  {
   "cell_type": "code",
   "execution_count": 95,
   "metadata": {},
   "outputs": [
    {
     "name": "stdout",
     "output_type": "stream",
     "text": [
      "Duration list example: \n",
      "[0.25, 0.5, 0.25, 0.5, 0.5, 2.0, 0.75, 0.25, 0.75, 0.5, 0.25, 1.75, 0.25, 0.5, 0.25, 0.75, 0.25, 1.75, 0.25, 2.0, 0.25, 1.5, 1.0, 0.75, 0.25, 0.25, 0.25, 1.5, 0.25, 0.25, 0.5, 0.25, 1.0, 2.0, 0.5, 0.25, 0.5, 0.75, 2.5, 0.25, 0.25, 0.25, 0.5, 1.0]\n"
     ]
    }
   ],
   "source": [
    "# example\n",
    "duration_list = convert_to_duration(random_song)\n",
    "print('Duration list example: ')\n",
    "print(duration_list)"
   ]
  },
  {
   "cell_type": "code",
   "execution_count": 96,
   "metadata": {},
   "outputs": [],
   "source": [
    "def convert_to_stream(duration_list):\n",
    "    # create an empty stream\n",
    "    stream = music21.stream.Stream()\n",
    "    # define the tempo as 3/4\n",
    "    stream.append(music21.meter.TimeSignature('3/4'))\n",
    "    # create note\n",
    "    # assign random pitch (C4)\n",
    "    # assign duration (quarter)\n",
    "    # append the note into empty stream\n",
    "    for duration in duration_list:\n",
    "        note = music21.note.Note(pitch='C4', quarterLength=duration)\n",
    "        stream.append(note)\n",
    "    return stream"
   ]
  },
  {
   "cell_type": "code",
   "execution_count": 97,
   "metadata": {},
   "outputs": [
    {
     "name": "stdout",
     "output_type": "stream",
     "text": [
      "Random sequence represented by integers:\n",
      " [[1, 2, 4, 5, 7, 9], [1, 4, 5, 8, 10, 11], [2, 3, 5, 6, 9, 10], [1, 2, 10, 11], [1, 5, 8, 9, 10, 11], [1, 2, 3, 5, 6, 10], [2, 4, 5, 7, 10], [4, 5, 6, 7, 9]]\n",
      "Random sequence represented by beats:\n",
      " [[1.0, 1.25, 1.75, 2.0, 2.5, 3.0], [1.0, 1.75, 2.0, 2.75, 3.25, 3.5], [1.25, 1.5, 2.0, 2.25, 3.0, 3.25], [1.0, 1.25, 3.25, 3.5], [1.0, 2.0, 2.75, 3.0, 3.25, 3.5], [1.0, 1.25, 1.5, 2.0, 2.25, 3.25], [1.25, 1.75, 2.0, 2.5, 3.25], [1.75, 2.0, 2.25, 2.5, 3.0]]\n"
     ]
    },
    {
     "data": {
      "text/html": [
       "\n",
       "                <div id=\"midiPlayerDiv509381\"></div>\n",
       "                <link rel=\"stylesheet\" href=\"//cuthbertLab.github.io/music21j/css/m21.css\"\n",
       "                    type=\"text/css\" />\n",
       "                \n",
       "                <script>\n",
       "                require.config({\n",
       "                    paths: {'music21': '//cuthbertLab.github.io/music21j/src/music21'}\n",
       "                });\n",
       "                require(['music21'], function() {\n",
       "                               mp = new music21.miditools.MidiPlayer();\n",
       "                               mp.addPlayer(\"#midiPlayerDiv509381\");\n",
       "                               mp.base64Load(\"data:audio/midi;base64,TVRoZAAAAAYAAQACBABNVHJrAAAAFAD/UQMHoSAA/1gEAwIYCIgA/y8ATVRyawAAAZoA/wMAAOAAQIgAkDxaggCAPAAAkDxahACAPAAAkDxaggCAPAAAkDxahACAPAAAkDxahACAPAAAkDxakACAPAAAkDxahgCAPAAAkDxaggCAPAAAkDxahgCAPAAAkDxahACAPAAAkDxaggCAPAAAkDxajgCAPAAAkDxaggCAPAAAkDxahACAPAAAkDxaggCAPAAAkDxahgCAPAAAkDxaggCAPAAAkDxajgCAPAAAkDxaggCAPAAAkDxakACAPAAAkDxaggCAPAAAkDxajACAPAAAkDxaiACAPAAAkDxahgCAPAAAkDxaggCAPAAAkDxaggCAPAAAkDxaggCAPAAAkDxajACAPAAAkDxaggCAPAAAkDxaggCAPAAAkDxahACAPAAAkDxaggCAPAAAkDxaiACAPAAAkDxakACAPAAAkDxahACAPAAAkDxaggCAPAAAkDxahACAPAAAkDxahgCAPAAAkDxalACAPAAAkDxaggCAPAAAkDxaggCAPAAAkDxaggCAPAAAkDxahACAPAAAkDxaiACAPACIAP8vAA==\");\n",
       "                        });\n",
       "                </script>"
      ],
      "text/plain": [
       "<IPython.core.display.HTML object>"
      ]
     },
     "metadata": {},
     "output_type": "display_data"
    }
   ],
   "source": [
    "# example\n",
    "stream = convert_to_stream(duration_list)\n",
    "\n",
    "# print with map_beats convertion (map_beats function from Part 1) and without\n",
    "print('Random sequence represented by integers:\\n',map_beats(random_song))\n",
    "print('Random sequence represented by beats:\\n',map_beats_reverse(map_beats(random_song)))\n",
    "\n",
    "# play the stream\n",
    "stream.show('midi')"
   ]
  },
  {
   "cell_type": "code",
   "execution_count": 98,
   "metadata": {},
   "outputs": [
    {
     "name": "stdout",
     "output_type": "stream",
     "text": [
      "500 random songs generated.\n"
     ]
    },
    {
     "data": {
      "text/html": [
       "<div>\n",
       "<style scoped>\n",
       "    .dataframe tbody tr th:only-of-type {\n",
       "        vertical-align: middle;\n",
       "    }\n",
       "\n",
       "    .dataframe tbody tr th {\n",
       "        vertical-align: top;\n",
       "    }\n",
       "\n",
       "    .dataframe thead th {\n",
       "        text-align: right;\n",
       "    }\n",
       "</style>\n",
       "<table border=\"1\" class=\"dataframe\">\n",
       "  <thead>\n",
       "    <tr style=\"text-align: right;\">\n",
       "      <th></th>\n",
       "      <th>id</th>\n",
       "      <th>notes</th>\n",
       "    </tr>\n",
       "  </thead>\n",
       "  <tbody>\n",
       "    <tr>\n",
       "      <th>0</th>\n",
       "      <td>0</td>\n",
       "      <td>[[1, 2, 4, 7, 8, 9, 11], [4, 5, 10], [1, 2, 4,...</td>\n",
       "    </tr>\n",
       "    <tr>\n",
       "      <th>1</th>\n",
       "      <td>1</td>\n",
       "      <td>[[3, 6, 8, 9, 10, 11], [1, 2, 3, 4, 8, 9, 11],...</td>\n",
       "    </tr>\n",
       "    <tr>\n",
       "      <th>2</th>\n",
       "      <td>2</td>\n",
       "      <td>[[1, 4, 5, 9, 10, 11], [2, 7, 10, 11], [2, 3, ...</td>\n",
       "    </tr>\n",
       "    <tr>\n",
       "      <th>3</th>\n",
       "      <td>3</td>\n",
       "      <td>[[1, 3, 4, 5, 8, 9, 11], [1, 4, 5, 7, 8, 9, 10...</td>\n",
       "    </tr>\n",
       "    <tr>\n",
       "      <th>4</th>\n",
       "      <td>4</td>\n",
       "      <td>[[2, 3, 6, 8, 9, 10], [3, 5, 6, 8, 10], [1, 2,...</td>\n",
       "    </tr>\n",
       "  </tbody>\n",
       "</table>\n",
       "</div>"
      ],
      "text/plain": [
       "  id                                              notes\n",
       "0  0  [[1, 2, 4, 7, 8, 9, 11], [4, 5, 10], [1, 2, 4,...\n",
       "1  1  [[3, 6, 8, 9, 10, 11], [1, 2, 3, 4, 8, 9, 11],...\n",
       "2  2  [[1, 4, 5, 9, 10, 11], [2, 7, 10, 11], [2, 3, ...\n",
       "3  3  [[1, 3, 4, 5, 8, 9, 11], [1, 4, 5, 7, 8, 9, 10...\n",
       "4  4  [[2, 3, 6, 8, 9, 10], [3, 5, 6, 8, 10], [1, 2,..."
      ]
     },
     "execution_count": 98,
     "metadata": {},
     "output_type": "execute_result"
    }
   ],
   "source": [
    "# produce a dataframe size 500 samples and save it as csv\n",
    "def produce_dataframe():\n",
    "    df = pd.DataFrame(columns=['id', 'notes'])\n",
    "    for i in range(500):\n",
    "        random_song = create_random_song()\n",
    "        # df = df.append({'id': i, 'notes': map_beats(random_song)}, ignore_index=True)\n",
    "        df.loc[len(df)] = [i, map_beats(random_song)]\n",
    "    return df\n",
    "\n",
    "df = produce_dataframe()\n",
    "print(f\"{len(df)} random songs generated.\")\n",
    "\n",
    "# save\n",
    "df.to_csv('random_songs.csv', index=False)\n",
    "\n",
    "# display\n",
    "df.head()"
   ]
  },
  {
   "attachments": {},
   "cell_type": "markdown",
   "metadata": {},
   "source": [
    "**Part 3: The Generation Model**\n",
    "\n",
    "**Goal:** generate \"human-like\" 8-bar rhythms in the style of Slängpolska. We will use a bigram-based Markov chain model, trained on 75% of the dataset as per the train-test split done in part 1."
   ]
  },
  {
   "cell_type": "code",
   "execution_count": 99,
   "metadata": {},
   "outputs": [
    {
     "data": {
      "text/html": [
       "<div>\n",
       "<style scoped>\n",
       "    .dataframe tbody tr th:only-of-type {\n",
       "        vertical-align: middle;\n",
       "    }\n",
       "\n",
       "    .dataframe tbody tr th {\n",
       "        vertical-align: top;\n",
       "    }\n",
       "\n",
       "    .dataframe thead th {\n",
       "        text-align: right;\n",
       "    }\n",
       "</style>\n",
       "<table border=\"1\" class=\"dataframe\">\n",
       "  <thead>\n",
       "    <tr style=\"text-align: right;\">\n",
       "      <th></th>\n",
       "      <th>piece</th>\n",
       "      <th>notes</th>\n",
       "    </tr>\n",
       "  </thead>\n",
       "  <tbody>\n",
       "    <tr>\n",
       "      <th>0</th>\n",
       "      <td>./abc/Mikaelidansen_a7e723.abc</td>\n",
       "      <td>[[1, 2, 3, 4, 5, 6, 7, 8, 9, 11, 12], [1, 2, 3...</td>\n",
       "    </tr>\n",
       "    <tr>\n",
       "      <th>1</th>\n",
       "      <td>./abc/_Polonesse_in_A_Moll_no_2_ur_Anders_Lars...</td>\n",
       "      <td>[[1, 3, 4, 5, 7, 8, 9, 11, 12], [1, 3, 4, 5, 7...</td>\n",
       "    </tr>\n",
       "    <tr>\n",
       "      <th>2</th>\n",
       "      <td>./abc/Polonesse_in_G_Dur_no_20_ur_Anders_Larss...</td>\n",
       "      <td>[[1, 3, 5, 6, 7, 8, 9], [1, 3, 5, 6, 7, 8, 9],...</td>\n",
       "    </tr>\n",
       "    <tr>\n",
       "      <th>3</th>\n",
       "      <td>./abc/Pollonesse_ur_Andreas_Dahlgrens_notbok_n...</td>\n",
       "      <td>[[1, 3, 5, 7, 9, 11], [1, 4, 5, 8, 9, 12], [1,...</td>\n",
       "    </tr>\n",
       "    <tr>\n",
       "      <th>4</th>\n",
       "      <td>./abc/Polska_efter_Anders_Gustaf_Andersson_eb6...</td>\n",
       "      <td>[[1, 3, 3, 4, 5, 9, 11], [1, 3, 3, 4, 5, 9, 11...</td>\n",
       "    </tr>\n",
       "  </tbody>\n",
       "</table>\n",
       "</div>"
      ],
      "text/plain": [
       "                                               piece  \\\n",
       "0                     ./abc/Mikaelidansen_a7e723.abc   \n",
       "1  ./abc/_Polonesse_in_A_Moll_no_2_ur_Anders_Lars...   \n",
       "2  ./abc/Polonesse_in_G_Dur_no_20_ur_Anders_Larss...   \n",
       "3  ./abc/Pollonesse_ur_Andreas_Dahlgrens_notbok_n...   \n",
       "4  ./abc/Polska_efter_Anders_Gustaf_Andersson_eb6...   \n",
       "\n",
       "                                               notes  \n",
       "0  [[1, 2, 3, 4, 5, 6, 7, 8, 9, 11, 12], [1, 2, 3...  \n",
       "1  [[1, 3, 4, 5, 7, 8, 9, 11, 12], [1, 3, 4, 5, 7...  \n",
       "2  [[1, 3, 5, 6, 7, 8, 9], [1, 3, 5, 6, 7, 8, 9],...  \n",
       "3  [[1, 3, 5, 7, 9, 11], [1, 4, 5, 8, 9, 12], [1,...  \n",
       "4  [[1, 3, 3, 4, 5, 9, 11], [1, 3, 3, 4, 5, 9, 11...  "
      ]
     },
     "execution_count": 99,
     "metadata": {},
     "output_type": "execute_result"
    }
   ],
   "source": [
    "markov_data = pd.read_csv('train.csv')\n",
    "markov_data.head()"
   ]
  },
  {
   "cell_type": "code",
   "execution_count": 100,
   "metadata": {},
   "outputs": [],
   "source": [
    "# change the note column to list\n",
    "markov_data['notes'] = markov_data['notes'].apply(ast.literal_eval)"
   ]
  },
  {
   "cell_type": "code",
   "execution_count": 101,
   "metadata": {},
   "outputs": [
    {
     "name": "stdout",
     "output_type": "stream",
     "text": [
      "45\n"
     ]
    }
   ],
   "source": [
    "# get the bigram of the music data\n",
    "bigram = []\n",
    "bigram_freq = defaultdict(int)\n",
    "\n",
    "# get the bigram of each song\n",
    "for i in range(len(markov_data)):\n",
    "    for bar in markov_data.loc[i,'notes']:\n",
    "        bigram.extend(zip(bar, bar[1:]))\n",
    "    \n",
    "# print(bigram)\n",
    "\n",
    "# get the frequency of every bigram\n",
    "bigram_freq = dict(Counter(bigram))\n",
    "print(len(bigram_freq))"
   ]
  },
  {
   "cell_type": "code",
   "execution_count": 102,
   "metadata": {},
   "outputs": [
    {
     "name": "stdout",
     "output_type": "stream",
     "text": [
      "33\n",
      "{(1, 2): 2278, (2, 3): 2275, (3, 4): 4056, (4, 5): 4434, (5, 6): 1893, (6, 7): 1891, (7, 8): 3100, (8, 9): 3203, (9, 11): 2997, (11, 12): 1926, (5, 7): 3310, (7, 9): 2111, (9, 12): 111, (1, 4): 383, (1, 3): 3539, (3, 5): 1753, (5, 9): 1086, (9, 10): 1288, (10, 11): 1287, (1, 5): 587, (5, 8): 106, (5, 11): 47, (3, 8): 1, (10, 12): 1, (1, 7): 14, (1, 9): 12, (4, 6): 2, (6, 8): 1, (8, 10): 1, (4, 7): 1, (3, 7): 3, (7, 11): 2, (6, 9): 1}\n"
     ]
    }
   ],
   "source": [
    "# remove the identical bigram or bigram with wrong direction\n",
    "wrong_bigrams = []\n",
    "for key in bigram_freq:\n",
    "    if key[0] >= key[1] or key[1]>12:\n",
    "        wrong_bigrams.append(key)\n",
    "for key in wrong_bigrams:\n",
    "    del bigram_freq[key]\n",
    "print(len(bigram_freq))\n",
    "print(bigram_freq)"
   ]
  },
  {
   "cell_type": "code",
   "execution_count": 103,
   "metadata": {},
   "outputs": [
    {
     "name": "stderr",
     "output_type": "stream",
     "text": [
      "<ipython-input-103-42b995d1957a>:10: RuntimeWarning: invalid value encountered in divide\n",
      "  bigram_prob = bigram_counts / row_sums\n"
     ]
    }
   ],
   "source": [
    "# create the bigram matrix\n",
    "bigram_counts = np.zeros((12, 12))\n",
    "\n",
    "# Fill the bigram_counts matrix with the counts from bigram_freq\n",
    "for (w1, w2), count in bigram_freq.items():\n",
    "    bigram_counts[w1 - 1, w2 - 1] = count\n",
    "\n",
    "# Normalize each row to create the transition probability matrix\n",
    "row_sums = bigram_counts.sum(axis=1, keepdims=True)\n",
    "bigram_prob = bigram_counts / row_sums"
   ]
  },
  {
   "cell_type": "code",
   "execution_count": 104,
   "metadata": {},
   "outputs": [
    {
     "data": {
      "image/png": "[encoded data removed]",
      "text/plain": [
       "<Figure size 576x576 with 1 Axes>"
      ]
     },
     "metadata": {
      "image/png": {
       "height": 605,
       "width": 590
      }
     },
     "output_type": "display_data"
    }
   ],
   "source": [
    "# use networkx to visualize the bigram matrix\n",
    "note_labels = ['1', '2', '3', '4', '5', '6', '7', '8', '9', '10', '11', '12']\n",
    "\n",
    "# Create a directed graph from the bigram probabilities\n",
    "G = nx.DiGraph()\n",
    "for i, row in enumerate(bigram_prob):\n",
    "    for j, prob in enumerate(row):\n",
    "        if prob > 0.1:\n",
    "            G.add_edge(note_labels[i], note_labels[j], weight=prob)\n",
    "\n",
    "# Visualize the directed graph\n",
    "plt.figure(figsize=(8,8))\n",
    "\n",
    "# Create a circular layout with the correct order\n",
    "pos = {note_labels[i]: (np.cos(2 * np.pi * i / 12), np.sin(2 * np.pi * i / 12)) for i in range(12)}\n",
    "\n",
    "# Calculate edge widths based on their weights\n",
    "edge_weights = nx.get_edge_attributes(G, 'weight')\n",
    "edge_widths = [d * 3 for d in edge_weights.values()]\n",
    "\n",
    "# Draw the graph with the calculated edge widths and custom positions\n",
    "nx.draw(G, pos, node_color='lightblue', with_labels=True, node_size=3000, width=edge_widths)\n",
    "labels = nx.get_edge_attributes(G, 'weight')\n",
    "nx.draw_networkx_edge_labels(G, pos, edge_labels={(u, v): f\"{d:.2f}\" for (u, v), d in labels.items()})\n",
    "plt.title('Bigram Probability Directed Graph')\n",
    "plt.savefig('bigram_probability_directed_graph.png', dpi=300, bbox_inches='tight')\n",
    "plt.show()"
   ]
  },
  {
   "cell_type": "code",
   "execution_count": 105,
   "metadata": {},
   "outputs": [],
   "source": [
    "# the generation model\n",
    "\n",
    "# use the current position to predict the next position\n",
    "def predict_next_state(bigram_freq, current_state):\n",
    "    \"\"\"\n",
    "    predict the next state based on the bigram frequency\n",
    "    \"\"\"\n",
    "    # get the possible next states\n",
    "    possible_next_states = [k[1] for k, v in bigram_freq.items() if k[0] == current_state]\n",
    "    # get the frequency of each possible next state\n",
    "    freq = [v for k, v in bigram_freq.items() if k[0] == current_state]\n",
    "    # normalize the frequency\n",
    "    freq = np.array(freq) / np.sum(freq)\n",
    "    # predict the next state\n",
    "    next_state = np.random.choice(possible_next_states, p=freq)\n",
    "    return next_state\n",
    "\n",
    "# get the cosine similarity between two bars\n",
    "def cosine_similarity(vec1, vec2):\n",
    "    dot_product = np.dot(vec1, vec2)\n",
    "    norm1 = np.linalg.norm(vec1)\n",
    "    norm2 = np.linalg.norm(vec2)\n",
    "    return dot_product / (norm1 * norm2)\n",
    "\n",
    "# change the position list to a vector of length 12\n",
    "def seq_to_vec(seq):\n",
    "    return [1 if i+1 in seq else 0 for i in range(12)]\n",
    "\n",
    "# given the start position, generate a bar\n",
    "def generate_a_bar(bigram_freq, start_state):\n",
    "    \"\"\"\n",
    "    generate a bar based on the bigram frequency\n",
    "    \"\"\"\n",
    "    bar = [start_state]\n",
    "    while True:\n",
    "        next_state = predict_next_state(bigram_freq, bar[-1])\n",
    "        bar.append(next_state)\n",
    "        # stop when the next state is 12 or the bar is longer than 4 and the next state is larger than 9 at the probability of 0.6\n",
    "        if next_state == 12 or (len(bar) >= 4 and next_state >= 9 and np.random.random() > 0.6):\n",
    "            break\n",
    "    return bar\n",
    "\n",
    "# generate a sequence of bars\n",
    "def generate_sequence(bigram_freq, start_state, num_bars, similarity_threshold=0.5):\n",
    "    \"\"\"\n",
    "    generate a sequence based on the bigram frequency\n",
    "    \"\"\"\n",
    "    sequence = [generate_a_bar(bigram_freq, start_state)]\n",
    "    while len(sequence) < num_bars:\n",
    "        bar = generate_a_bar(bigram_freq, start_state)\n",
    "        # compare the similarity between the last bar in the sequence and the new bar\n",
    "        vec1 = seq_to_vec(sequence[-1])\n",
    "        vec2 = seq_to_vec(bar)\n",
    "        similarity = cosine_similarity(vec1, vec2)\n",
    "\n",
    "        if similarity >= similarity_threshold:\n",
    "            sequence.append(bar)\n",
    "\n",
    "    return sequence"
   ]
  },
  {
   "cell_type": "code",
   "execution_count": 106,
   "metadata": {},
   "outputs": [
    {
     "name": "stdout",
     "output_type": "stream",
     "text": [
      "Sequence represented by integers:\n",
      " [[1, 2, 3, 5, 6, 7, 9, 11], [1, 2, 3, 4, 5, 6, 7, 8, 9, 11, 12], [1, 2, 3, 4, 5, 6, 7, 8, 9, 10], [1, 3, 4, 5, 6, 7, 8, 9], [1, 3, 5, 7, 8, 9], [1, 3, 4, 5, 7, 8, 9, 10], [1, 3, 4, 5, 7, 9, 10, 11], [1, 2, 3, 4, 5, 9, 10, 11]]\n",
      "Sequence represented by beats:\n",
      " [[1.0, 1.25, 1.5, 2.0, 2.25, 2.5, 3.0, 3.5], [1.0, 1.25, 1.5, 1.75, 2.0, 2.25, 2.5, 2.75, 3.0, 3.5, 3.75], [1.0, 1.25, 1.5, 1.75, 2.0, 2.25, 2.5, 2.75, 3.0, 3.25], [1.0, 1.5, 1.75, 2.0, 2.25, 2.5, 2.75, 3.0], [1.0, 1.5, 2.0, 2.5, 2.75, 3.0], [1.0, 1.5, 1.75, 2.0, 2.5, 2.75, 3.0, 3.25], [1.0, 1.5, 1.75, 2.0, 2.5, 3.0, 3.25, 3.5], [1.0, 1.25, 1.5, 1.75, 2.0, 3.0, 3.25, 3.5]]\n"
     ]
    }
   ],
   "source": [
    "# generate a sequence based on the bigram frequency\n",
    "sequence = generate_sequence(bigram_freq, start_state=1,num_bars=8,similarity_threshold=0.85)\n",
    "print('Sequence represented by integers:\\n',sequence)\n",
    "new_sequence = map_beats_reverse(sequence)\n",
    "print('Sequence represented by beats:\\n',new_sequence)"
   ]
  },
  {
   "cell_type": "code",
   "execution_count": 107,
   "metadata": {},
   "outputs": [
    {
     "data": {
      "text/html": [
       "\n",
       "                <div id=\"midiPlayerDiv509728\"></div>\n",
       "                <link rel=\"stylesheet\" href=\"//cuthbertLab.github.io/music21j/css/m21.css\"\n",
       "                    type=\"text/css\" />\n",
       "                \n",
       "                <script>\n",
       "                require.config({\n",
       "                    paths: {'music21': '//cuthbertLab.github.io/music21j/src/music21'}\n",
       "                });\n",
       "                require(['music21'], function() {\n",
       "                               mp = new music21.miditools.MidiPlayer();\n",
       "                               mp.addPlayer(\"#midiPlayerDiv509728\");\n",
       "                               mp.base64Load(\"data:audio/midi;base64,TVRoZAAAAAYAAQACBABNVHJrAAAAFAD/UQMHoSAA/1gEAwIYCIgA/y8ATVRyawAAAmkA/wMAAOAAQIgAkDxaggCAPAAAkDxaggCAPAAAkDxahACAPAAAkDxaggCAPAAAkDxaggCAPAAAkDxahACAPAAAkDxahACAPAAAkDxajACAPAAAkDxaggCAPAAAkDxaggCAPAAAkDxaggCAPAAAkDxaggCAPAAAkDxaggCAPAAAkDxaggCAPAAAkDxaggCAPAAAkDxaggCAPAAAkDxahACAPAAAkDxaggCAPAAAkDxaigCAPAAAkDxaggCAPAAAkDxaggCAPAAAkDxaggCAPAAAkDxaggCAPAAAkDxaggCAPAAAkDxaggCAPAAAkDxaggCAPAAAkDxaggCAPAAAkDxaggCAPAAAkDxajgCAPAAAkDxahACAPAAAkDxaggCAPAAAkDxaggCAPAAAkDxaggCAPAAAkDxaggCAPAAAkDxaggCAPAAAkDxaggCAPAAAkDxakACAPAAAkDxahACAPAAAkDxahACAPAAAkDxahACAPAAAkDxaggCAPAAAkDxaggCAPAAAkDxakACAPAAAkDxahACAPAAAkDxaggCAPAAAkDxaggCAPAAAkDxahACAPAAAkDxaggCAPAAAkDxaggCAPAAAkDxaggCAPAAAkDxajgCAPAAAkDxahACAPAAAkDxaggCAPAAAkDxaggCAPAAAkDxahACAPAAAkDxahACAPAAAkDxaggCAPAAAkDxaggCAPAAAkDxajACAPAAAkDxaggCAPAAAkDxaggCAPAAAkDxaggCAPAAAkDxaggCAPAAAkDxaiACAPAAAkDxaggCAPAAAkDxaggCAPAAAkDxahACAPACIAP8vAA==\");\n",
       "                        });\n",
       "                </script>"
      ],
      "text/plain": [
       "<IPython.core.display.HTML object>"
      ]
     },
     "metadata": {},
     "output_type": "display_data"
    }
   ],
   "source": [
    "stream_example = convert_to_stream(convert_to_duration(new_sequence))\n",
    "# hear the midi file\n",
    "stream_example.show('midi')"
   ]
  },
  {
   "cell_type": "code",
   "execution_count": 108,
   "metadata": {},
   "outputs": [],
   "source": [
    "# generate 500 sequences based on the bigram frequency\n",
    "# create an empty DataFrame with columns ['notes']\n",
    "sequences = pd.DataFrame(columns=['notes'])\n",
    "while len(sequences) < 500:\n",
    "    try:\n",
    "        sequence = generate_sequence(bigram_freq, start_state=1,num_bars=8,similarity_threshold=0.85)\n",
    "        sequences.loc[len(sequences)] = [sequence]\n",
    "    except:\n",
    "        pass\n",
    "# save\n",
    "sequences.to_csv('markov_songs.csv',index=True)"
   ]
  },
  {
   "attachments": {},
   "cell_type": "markdown",
   "metadata": {},
   "source": [
    "**Part 4: Results, Metric, Evaluation**\n",
    "\n",
    "**Goal:** evaluate the results of the random model, the original dataset, and our generation model, and compare the three. We will also highlight one good sample and one bad sample from our generation model."
   ]
  },
  {
   "cell_type": "code",
   "execution_count": 109,
   "metadata": {},
   "outputs": [],
   "source": [
    "def distance_bar(bar1,bar2):\n",
    "    #In the 12-position format of each bar, if the same positions in two bars all have a beat than their distance\n",
    "    #is zero, otherwise the distance will add 1\n",
    "    ##Return the distance between bar1 and bar2\n",
    "    dis_bar=0;\n",
    "    for i in range(12):\n",
    "        if(bar1[i]==bar2[i]):\n",
    "            continue\n",
    "        else:\n",
    "            dis_bar=dis_bar+1\n",
    "    return dis_bar\n",
    "                \n",
    "        "
   ]
  },
  {
   "cell_type": "code",
   "execution_count": 110,
   "metadata": {},
   "outputs": [],
   "source": [
    "def correlation_measure(mea1):\n",
    "    # The correlation between each bar in one piece, the input should be in the 12-position form\n",
    "    mea1=pd.DataFrame(mea1)\n",
    "    corr_matrix=mea1.T.corr()\n",
    "    plt.figure(figsize=(10,8))\n",
    "    mask = np.zeros_like(corr_matrix, dtype=np.bool_)\n",
    "    mask[np.triu_indices_from(mask)] = True\n",
    "    mask[np.diag_indices_from(mask)]=False\n",
    "    plt.title(\"\")\n",
    "    sns.heatmap(corr_matrix, annot = True,mask = mask, linewidths=.5, cmap=\"YlGnBu\") \n",
    "    plt.show()\n",
    "    #plt.tight_layout()\n"
   ]
  },
  {
   "cell_type": "code",
   "execution_count": 111,
   "metadata": {},
   "outputs": [],
   "source": [
    "def averagebeat_per_piece(piece):\n",
    "    # calculate average beats in one piece in each bar\n",
    "    num_bar=len(piece)\n",
    "    num_beat=0\n",
    "    for i in range(len(piece)):\n",
    "        l=piece[i].split(\",\")        \n",
    "        num_beat=num_beat+len(l)     \n",
    "    return num_beat/num_bar"
   ]
  },
  {
   "cell_type": "code",
   "execution_count": 112,
   "metadata": {},
   "outputs": [],
   "source": [
    "def weighted(piece):\n",
    "    weights=0\n",
    "    for i in range(len(piece)):            \n",
    "        if('1' in piece[i]):\n",
    "            weights=weights+2        \n",
    "        if('5' in piece[i]):\n",
    "            weights=weights+1            \n",
    "        if('9' in piece[i]):\n",
    "            weights=weights+1  \n",
    "    return weights/len(piece)"
   ]
  },
  {
   "cell_type": "code",
   "execution_count": 113,
   "metadata": {},
   "outputs": [],
   "source": [
    "def min_correlation(piece):\n",
    "    for i in range(len(piece)): \n",
    "        piece[i]=piece[i].split(\",\")        \n",
    "    piece=pd.DataFrame(piece)    \n",
    "    piece=piece.apply(lambda x:x.astype(float))    \n",
    "    corr_matrix=piece.T.corr()\n",
    "    min_corr=(corr_matrix.min()).min()\n",
    "    return min_corr  "
   ]
  },
  {
   "cell_type": "code",
   "execution_count": 114,
   "metadata": {},
   "outputs": [],
   "source": [
    "def scoring(piece):\n",
    "    # give a score to each song according to number of notes in each bar, minimum correlation between the bars in\n",
    "    # one piece, the expected position of note. \n",
    "    weights=weighted(piece)    \n",
    "    average_beat=averagebeat_per_piece(piece)   \n",
    "    min_corr=min_correlation(piece)\n",
    "    \n",
    "    return average_beat,min_corr,weights"
   ]
  },
  {
   "attachments": {},
   "cell_type": "markdown",
   "metadata": {},
   "source": [
    "**Calculate three scores to each dataset**"
   ]
  },
  {
   "cell_type": "code",
   "execution_count": 148,
   "metadata": {},
   "outputs": [
    {
     "ename": "TypeError",
     "evalue": "'numpy.float64' object is not callable",
     "output_type": "error",
     "traceback": [
      "\u001b[1;31m---------------------------------------------------------------------------\u001b[0m",
      "\u001b[1;31mTypeError\u001b[0m                                 Traceback (most recent call last)",
      "\u001b[1;32m<ipython-input-148-19ff2a33f365>\u001b[0m in \u001b[0;36m<module>\u001b[1;34m\u001b[0m\n\u001b[0;32m     15\u001b[0m \u001b[0mweights\u001b[0m\u001b[1;33m=\u001b[0m\u001b[1;33m[\u001b[0m\u001b[1;33m]\u001b[0m\u001b[1;33m\u001b[0m\u001b[1;33m\u001b[0m\u001b[0m\n\u001b[0;32m     16\u001b[0m \u001b[1;32mfor\u001b[0m \u001b[0mi\u001b[0m \u001b[1;32min\u001b[0m \u001b[0mrange\u001b[0m\u001b[1;33m(\u001b[0m\u001b[0mlen\u001b[0m\u001b[1;33m(\u001b[0m\u001b[0mdataset_notes\u001b[0m\u001b[1;33m)\u001b[0m\u001b[1;33m)\u001b[0m\u001b[1;33m:\u001b[0m\u001b[1;33m\u001b[0m\u001b[1;33m\u001b[0m\u001b[0m\n\u001b[1;32m---> 17\u001b[1;33m     \u001b[0mbeat\u001b[0m\u001b[1;33m,\u001b[0m\u001b[0mcorr\u001b[0m\u001b[1;33m,\u001b[0m\u001b[0mweight\u001b[0m\u001b[1;33m=\u001b[0m\u001b[0mscoring\u001b[0m\u001b[1;33m(\u001b[0m\u001b[0mdataset_notes\u001b[0m\u001b[1;33m[\u001b[0m\u001b[0mi\u001b[0m\u001b[1;33m]\u001b[0m\u001b[1;33m)\u001b[0m\u001b[1;33m\u001b[0m\u001b[1;33m\u001b[0m\u001b[0m\n\u001b[0m\u001b[0;32m     18\u001b[0m     \u001b[0maver_beat\u001b[0m\u001b[1;33m.\u001b[0m\u001b[0mappend\u001b[0m\u001b[1;33m(\u001b[0m\u001b[0mbeat\u001b[0m\u001b[1;33m)\u001b[0m\u001b[1;33m\u001b[0m\u001b[1;33m\u001b[0m\u001b[0m\n\u001b[0;32m     19\u001b[0m     \u001b[0mmin_corr\u001b[0m\u001b[1;33m.\u001b[0m\u001b[0mappend\u001b[0m\u001b[1;33m(\u001b[0m\u001b[0mcorr\u001b[0m\u001b[1;33m)\u001b[0m\u001b[1;33m\u001b[0m\u001b[1;33m\u001b[0m\u001b[0m\n",
      "\u001b[1;32m<ipython-input-114-88a119617e50>\u001b[0m in \u001b[0;36mscoring\u001b[1;34m(piece)\u001b[0m\n\u001b[0;32m      4\u001b[0m     \u001b[0mweights\u001b[0m\u001b[1;33m=\u001b[0m\u001b[0mweighted\u001b[0m\u001b[1;33m(\u001b[0m\u001b[0mpiece\u001b[0m\u001b[1;33m)\u001b[0m\u001b[1;33m\u001b[0m\u001b[1;33m\u001b[0m\u001b[0m\n\u001b[0;32m      5\u001b[0m     \u001b[0maverage_beat\u001b[0m\u001b[1;33m=\u001b[0m\u001b[0maveragebeat_per_piece\u001b[0m\u001b[1;33m(\u001b[0m\u001b[0mpiece\u001b[0m\u001b[1;33m)\u001b[0m\u001b[1;33m\u001b[0m\u001b[1;33m\u001b[0m\u001b[0m\n\u001b[1;32m----> 6\u001b[1;33m     \u001b[0mmin_corr\u001b[0m\u001b[1;33m=\u001b[0m\u001b[0mmin_correlation\u001b[0m\u001b[1;33m(\u001b[0m\u001b[0mpiece\u001b[0m\u001b[1;33m)\u001b[0m\u001b[1;33m\u001b[0m\u001b[1;33m\u001b[0m\u001b[0m\n\u001b[0m\u001b[0;32m      7\u001b[0m \u001b[1;33m\u001b[0m\u001b[0m\n\u001b[0;32m      8\u001b[0m     \u001b[1;32mreturn\u001b[0m \u001b[0maverage_beat\u001b[0m\u001b[1;33m,\u001b[0m\u001b[0mmin_corr\u001b[0m\u001b[1;33m,\u001b[0m\u001b[0mweights\u001b[0m\u001b[1;33m\u001b[0m\u001b[1;33m\u001b[0m\u001b[0m\n",
      "\u001b[1;31mTypeError\u001b[0m: 'numpy.float64' object is not callable"
     ]
    }
   ],
   "source": [
    "df_train=pd.read_csv(\"./train.csv\")\n",
    "dataset_notes=df_train[\"notes\"].tolist()\n",
    "\n",
    "for i in range(len(dataset_notes)):\n",
    "    d=dataset_notes[i]\n",
    "    d=d.replace(\"[\",'')\n",
    "    d=d.replace(\" \",'')\n",
    "    d=d.replace(\"]]\",\"\")\n",
    "    d=d.replace(\" \",\"\")\n",
    "    d=d.split(\"],\")\n",
    "    dataset_notes[i]=d   \n",
    "    \n",
    "aver_beat=[]\n",
    "min_corr=[]\n",
    "weights=[]\n",
    "for i in range(len(dataset_notes)):    \n",
    "    beat,corr,weight=scoring(dataset_notes[i])\n",
    "    aver_beat.append(beat)\n",
    "    min_corr.append(corr)\n",
    "    weights.append(weight)\n",
    "\n",
    "aver_beat=pd.DataFrame(aver_beat)\n",
    "aver_beat.columns=[\"average_beat\"]\n",
    "min_corr=pd.DataFrame(min_corr)\n",
    "min_corr.columns=[\"min_correlation\"]\n",
    "weights=pd.DataFrame(weights)\n",
    "weights.columns=[\"weights\"]\n",
    "df_train=pd.concat([df_train,aver_beat,min_corr,weights],axis=1)\n",
    "df_train.to_csv(\"train_all.csv\")"
   ]
  },
  {
   "cell_type": "code",
   "execution_count": 116,
   "metadata": {},
   "outputs": [],
   "source": [
    "df_test=pd.read_csv(\"./test.csv\")\n",
    "dataset_notes=df_test[\"notes\"].tolist()\n",
    "\n",
    "for i in range(len(dataset_notes)):\n",
    "    d=dataset_notes[i]\n",
    "    d=d.replace(\"[\",'')\n",
    "    d=d.replace(\" \",'')\n",
    "    d=d.replace(\"]]\",\"\")\n",
    "    d=d.replace(\" \",\"\")\n",
    "    d=d.split(\"],\")\n",
    "    dataset_notes[i]=d   \n",
    "    \n",
    "aver_beat=[]\n",
    "min_corr=[]\n",
    "weights=[]\n",
    "for i in range(len(dataset_notes)):    \n",
    "    beat,corr,weight=scoring(dataset_notes[i])\n",
    "    aver_beat.append(beat)\n",
    "    min_corr.append(corr)\n",
    "    weights.append(weight)\n",
    "\n",
    "aver_beat=pd.DataFrame(aver_beat)\n",
    "aver_beat.columns=[\"average_beat\"]\n",
    "min_corr=pd.DataFrame(min_corr)\n",
    "min_corr.columns=[\"min_correlation\"]\n",
    "weights=pd.DataFrame(weights)\n",
    "weights.columns=[\"weights\"]\n",
    "df_test=pd.concat([df_test,aver_beat,min_corr,weights],axis=1)\n",
    "df_test.to_csv(\"test_all.csv\")"
   ]
  },
  {
   "cell_type": "code",
   "execution_count": 118,
   "metadata": {},
   "outputs": [],
   "source": [
    "df_random=pd.read_csv(\"./random_songs.csv\")\n",
    "dataset_notes=df_random[\"notes\"].tolist()\n",
    "\n",
    "for i in range(len(dataset_notes)):\n",
    "    d=dataset_notes[i]\n",
    "    d=d.replace(\"[\",'')\n",
    "    d=d.replace(\" \",'')\n",
    "    d=d.replace(\"]]\",\"\")\n",
    "    d=d.replace(\" \",\"\")\n",
    "    d=d.split(\"],\")\n",
    "    dataset_notes[i]=d   \n",
    "    \n",
    "aver_beat=[]\n",
    "min_corr=[]\n",
    "weights=[]\n",
    "for i in range(len(dataset_notes)):    \n",
    "    beat,corr,weight=scoring(dataset_notes[i])\n",
    "    aver_beat.append(beat)\n",
    "    min_corr.append(corr)\n",
    "    weights.append(weight)\n",
    "\n",
    "aver_beat=pd.DataFrame(aver_beat)\n",
    "aver_beat.columns=[\"average_beat\"]\n",
    "min_corr=pd.DataFrame(min_corr)\n",
    "min_corr.columns=[\"min_correlation\"]\n",
    "weights=pd.DataFrame(weights)\n",
    "weights.columns=[\"weights\"]\n",
    "df_random=pd.concat([df_random,aver_beat,min_corr,weights],axis=1)\n",
    "df_random.to_csv(\"random_all.csv\")"
   ]
  },
  {
   "cell_type": "code",
   "execution_count": 119,
   "metadata": {},
   "outputs": [],
   "source": [
    "df_markov=pd.read_csv(\"./markov_songs.csv\")\n",
    "dataset_notes=df_markov[\"notes\"].tolist()\n",
    "\n",
    "for i in range(len(dataset_notes)):\n",
    "    d=dataset_notes[i]\n",
    "    d=d.replace(\"[\",'')\n",
    "    d=d.replace(\" \",'')\n",
    "    d=d.replace(\"]]\",\"\")\n",
    "    d=d.replace(\" \",\"\")\n",
    "    d=d.split(\"],\")\n",
    "    dataset_notes[i]=d   \n",
    "    \n",
    "aver_beat=[]\n",
    "min_corr=[]\n",
    "weights=[]\n",
    "for i in range(len(dataset_notes)):    \n",
    "    beat,corr,weight=scoring(dataset_notes[i])\n",
    "    aver_beat.append(beat)\n",
    "    min_corr.append(corr)\n",
    "    weights.append(weight)\n",
    "\n",
    "aver_beat=pd.DataFrame(aver_beat)\n",
    "aver_beat.columns=[\"average_beat\"]\n",
    "min_corr=pd.DataFrame(min_corr)\n",
    "min_corr.columns=[\"min_correlation\"]\n",
    "weights=pd.DataFrame(weights)\n",
    "weights.columns=[\"weights\"]\n",
    "df_markov=pd.concat([df_markov,aver_beat,min_corr,weights],axis=1)\n",
    "df_markov.to_csv(\"markov_all.csv\")"
   ]
  },
  {
   "attachments": {},
   "cell_type": "markdown",
   "metadata": {},
   "source": [
    "**Analyze between different datasets**"
   ]
  },
  {
   "attachments": {},
   "cell_type": "markdown",
   "metadata": {},
   "source": [
    "*Average scores for different datasets*"
   ]
  },
  {
   "cell_type": "code",
   "execution_count": 143,
   "metadata": {},
   "outputs": [
    {
     "name": "stdout",
     "output_type": "stream",
     "text": [
      "Average beat per bar in training dataset is: 7.305962692746507\n",
      "Average minimum correlation in training dataset is: 0.9026131391566267\n",
      "Average weights in training dataset is: 3.9162547927432025\n"
     ]
    }
   ],
   "source": [
    "df_train=pd.read_csv(\"train_all.csv\")\n",
    "print(\"Average beat per bar in training dataset is: \"+str(df_train[\"average_beat\"].mean()))\n",
    "print(\"Average minimum correlation in training dataset is: \"+str(df_train[\"min_correlation\"].mean()))\n",
    "print(\"Average weights in training dataset is: \"+str(df_train[\"weights\"].mean()))"
   ]
  },
  {
   "cell_type": "code",
   "execution_count": 144,
   "metadata": {},
   "outputs": [
    {
     "name": "stdout",
     "output_type": "stream",
     "text": [
      "Average beat per bar in test dataset is: 7.3183852068398485\n",
      "Average minimum correlation in test dataset is: 0.9086214952729449\n",
      "Average weights in test dataset is: 3.918096963097287\n"
     ]
    }
   ],
   "source": [
    "df_test=pd.read_csv(\"test_all.csv\")\n",
    "print(\"Average beat per bar in test dataset is: \"+str(df_test[\"average_beat\"].mean()))\n",
    "print(\"Average minimum correlation in test dataset is: \"+str(df_test[\"min_correlation\"].mean()))\n",
    "print(\"Average weights in test dataset is: \"+str(df_test[\"weights\"].mean()))"
   ]
  },
  {
   "cell_type": "code",
   "execution_count": 122,
   "metadata": {},
   "outputs": [
    {
     "name": "stdout",
     "output_type": "stream",
     "text": [
      "Average beat per bar in random dataset is: 5.483\n",
      "Average minimum correlation in random dataset is: 0.851600172949185\n",
      "Average weights in random dataset is: 2.732\n"
     ]
    }
   ],
   "source": [
    "df_random=pd.read_csv(\"random_all.csv\")\n",
    "print(\"Average beat per bar in random dataset is: \"+str(df_random[\"average_beat\"].mean()))\n",
    "print(\"Average minimum correlation in random dataset is: \"+str(df_random[\"min_correlation\"].mean()))\n",
    "print(\"Average weights in random dataset is: \"+str(df_random[\"weights\"].mean()))"
   ]
  },
  {
   "cell_type": "code",
   "execution_count": 123,
   "metadata": {},
   "outputs": [
    {
     "name": "stdout",
     "output_type": "stream",
     "text": [
      "Average beat per bar in markov dataset is: 7.701\n",
      "Average minimum correlation in markov dataset is: 0.953538765750011\n",
      "Average weights in markov dataset is: 3.99725\n"
     ]
    }
   ],
   "source": [
    "df_markov=pd.read_csv(\"markov_all.csv\")\n",
    "print(\"Average beat per bar in markov dataset is: \"+str(df_markov[\"average_beat\"].mean()))\n",
    "print(\"Average minimum correlation in markov dataset is: \"+str(df_markov[\"min_correlation\"].mean()))\n",
    "print(\"Average weights in markov dataset is: \"+str(df_markov[\"weights\"].mean()))"
   ]
  },
  {
   "cell_type": "code",
   "execution_count": 132,
   "metadata": {},
   "outputs": [
    {
     "data": {
      "image/png": "[encoded data removed]",
      "text/plain": [
       "<Figure size 1440x360 with 3 Axes>"
      ]
     },
     "metadata": {
      "image/png": {
       "height": 318,
       "width": 1157
      },
      "needs_background": "light"
     },
     "output_type": "display_data"
    },
    {
     "data": {
      "text/plain": [
       "<Figure size 432x288 with 0 Axes>"
      ]
     },
     "metadata": {},
     "output_type": "display_data"
    }
   ],
   "source": [
    "# plot the beat per bar, minimum correlation and weights in three figures\n",
    "beat_per_bar=[df_train[\"average_beat\"].mean(),df_test[\"average_beat\"].mean(),df_random[\"average_beat\"].mean(),df_markov[\"average_beat\"].mean()]\n",
    "minimum_correlation=[df_train[\"min_correlation\"].mean(),df_test[\"min_correlation\"].mean(),df_random[\"min_correlation\"].mean(),df_markov[\"min_correlation\"].mean()]\n",
    "weights=[df_train[\"weights\"].mean(),df_test[\"weights\"].mean(),df_random[\"weights\"].mean(),df_markov[\"weights\"].mean()]\n",
    "labels=[\"train\",\"test\",\"random\",\"markov\"]\n",
    "fig,ax=plt.subplots(1,3,figsize=(20,5))\n",
    "# draw the line chart,show the number of beat per bar, minimum correlation and weights\n",
    "ax[0].plot(labels,beat_per_bar)\n",
    "ax[1].plot(labels,minimum_correlation)\n",
    "ax[2].plot(labels,weights)\n",
    "# set the title\n",
    "ax[0].set_title(\"Average beat per bar\")\n",
    "ax[1].set_title(\"Average minimum correlation\")\n",
    "ax[2].set_title(\"Average weights\")\n",
    "\n",
    "plt.show()\n",
    "plt.savefig('comparison.png')"
   ]
  },
  {
   "attachments": {},
   "cell_type": "markdown",
   "metadata": {},
   "source": [
    "**Find the best and worst song in the Markov (generated) dataset**\n",
    "\n",
    "*We need to uniformize standards for the three scores to get a general score. For the average beat per bar, it should be close to that of the test set. The minimum correlation should be as large as possible. The weight should be as close to 4 (largest value) as possible.*"
   ]
  },
  {
   "cell_type": "code",
   "execution_count": 138,
   "metadata": {},
   "outputs": [
    {
     "name": "stdout",
     "output_type": "stream",
     "text": [
      "The largest averge beat per bar is : 10.375\n",
      "The smallest averge beat per bar is : 4.875\n"
     ]
    }
   ],
   "source": [
    "# Find the largest and smallest average beat to better scale the data\n",
    "largest_beat=df_markov[\"average_beat\"].max()\n",
    "smallest_beat=df_markov[\"average_beat\"].min()\n",
    "print(\"The largest averge beat per bar is : \"+str(largest_beat))\n",
    "print(\"The smallest averge beat per bar is : \"+str(smallest_beat))"
   ]
  },
  {
   "cell_type": "code",
   "execution_count": 139,
   "metadata": {},
   "outputs": [],
   "source": [
    "# Do the normalization for the markov data\n",
    "test_average_beat=(7.386141116762393-smallest_beat)/(largest_beat-smallest_beat)\n",
    "df_markov[\"normalized_average_beat\"]=(df_markov[\"average_beat\"]-smallest_beat)/(largest_beat-smallest_beat)"
   ]
  },
  {
   "cell_type": "code",
   "execution_count": 140,
   "metadata": {},
   "outputs": [],
   "source": [
    "def general_score(average_beat,min_correlation,weights):\n",
    "    final_score=weights/4+min_correlation+abs(average_beat-test_average_beat)    # 7.386 is the average beat in test set\n",
    "    return final_score"
   ]
  },
  {
   "cell_type": "code",
   "execution_count": 141,
   "metadata": {},
   "outputs": [],
   "source": [
    "final_scores=[]\n",
    "for i in range(df_markov.shape[0]):\n",
    "    average_beat=df_markov.iloc[i][\"normalized_average_beat\"]\n",
    "    min_correlation=df_markov.iloc[i][\"min_correlation\"]\n",
    "    weights=df_markov.iloc[i][\"weights\"]\n",
    "    final_scores.append(general_score(average_beat,min_correlation,weights))"
   ]
  },
  {
   "cell_type": "code",
   "execution_count": 142,
   "metadata": {},
   "outputs": [
    {
     "name": "stdout",
     "output_type": "stream",
     "text": [
      "Maximum score is: 2.5201746367973668; Index of the best generated piece is : 419 The beat of this piece ：[[1, 2, 3, 4, 5, 7, 9, 11, 12], [1, 2, 3, 4, 5, 6, 7, 8, 9, 10, 11, 12], [1, 2, 3, 5, 6, 7, 8, 9, 11, 12], [1, 2, 3, 5, 6, 7, 8, 9, 11, 12], [1, 2, 3, 4, 5, 6, 7, 9, 10, 11, 12], [1, 3, 4, 5, 6, 7, 8, 9, 10, 11], [1, 2, 3, 4, 5, 6, 7, 8, 9, 11], [1, 2, 3, 4, 5, 7, 8, 9, 10, 11, 12]]\n",
      "Minimum score is: 1.8887874959593332; Index of the worest generated piece is : 7 The beat of this piece ：[[1, 3, 5, 7, 9, 11], [1, 3, 5, 7, 9, 11], [1, 3, 4, 5, 7, 9, 11, 12], [1, 3, 5, 9, 11, 12], [1, 3, 5, 9, 10, 11, 12], [1, 2, 3, 5, 9, 11, 12], [1, 2, 3, 4, 5, 9, 11, 12], [1, 2, 3, 4, 5, 6, 7, 8, 9, 11, 12]]\n"
     ]
    }
   ],
   "source": [
    "best_index=final_scores.index(max(final_scores))\n",
    "worest_index=final_scores.index(min(final_scores))\n",
    "print(\"Maximum score is: \"+str(max(final_scores))+\"; Index of the best generated piece is : \"+str(best_index)+\" The beat of this piece ：\"+df_markov.iloc[best_index][\"notes\"])\n",
    "print(\"Minimum score is: \"+str(min(final_scores))+\"; Index of the worest generated piece is : \"+str(worest_index)+\" The beat of this piece ：\"+df_markov.iloc[worest_index][\"notes\"])"
   ]
  },
  {
   "cell_type": "code",
   "execution_count": null,
   "metadata": {},
   "outputs": [],
   "source": []
  }
 ],
 "metadata": {
  "kernelspec": {
   "display_name": "ada",
   "language": "python",
   "name": "python3"
  },
  "language_info": {
   "codemirror_mode": {
    "name": "ipython",
    "version": 3
   },
   "file_extension": ".py",
   "mimetype": "text/x-python",
   "name": "python",
   "nbconvert_exporter": "python",
   "pygments_lexer": "ipython3",
   "version": "3.8.5"
  },
  "orig_nbformat": 4
 },
 "nbformat": 4,
 "nbformat_minor": 2
}
