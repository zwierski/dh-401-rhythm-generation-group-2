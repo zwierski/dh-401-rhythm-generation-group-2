{
 "cells": [
  {
   "attachments": {},
   "cell_type": "markdown",
   "metadata": {},
   "source": [
    "**Assignment 1: Generating \"Human-Like Rhythms from a given corpus**"
   ]
  },
  {
   "attachments": {},
   "cell_type": "markdown",
   "metadata": {},
   "source": [
    "**Part 1: Preprocessing - Parsing the dataset**\n",
    "\n",
    "**Goal:** Parse the abc music files to only get the elements related to the rhythm. We will use music21 to obtain, from each piece's abc file, a list of bars with each bar containing the beats on which a note appears. Then, we will create a Dataframe of all the pieces encoded in list form, which we can split to use as a training set and a test set."
   ]
  },
  {
   "cell_type": "code",
   "execution_count": 24,
   "metadata": {},
   "outputs": [],
   "source": [
    "# Imports\n",
    "import pandas as pd\n",
    "import music21\n",
    "import os\n",
    "import textract\n",
    "import pathlib"
   ]
  },
  {
   "cell_type": "code",
   "execution_count": 26,
   "metadata": {},
   "outputs": [],
   "source": [
    "# Function that, from an abc file, gets the beat distribution of every bar of the piece\n",
    "# Returns an array (piece) of arrays (bars)\n",
    "def extractBeatArray(path):\n",
    "\n",
    "    # getting the parsable score\n",
    "    sample = music21.converter.parse(path)\n",
    "    part = sample.parts[0]\n",
    "    notes = part.recurse().notes\n",
    "    length_in_bars = int(sample.duration.quarterLength/sample.getTimeSignatures()[0].numerator) \n",
    "    # should be numerator*(denominator/4), but here denominator is already 4 since all pieces are in 3/4\n",
    "    \n",
    "    bars = []\n",
    "\n",
    "    # iteratively adding every beat of every bar. Each bar is a list and the piece is a list of bars i.e. a list of lists\n",
    "    for i in range(0, length_in_bars):\n",
    "        if part.measure(i) is not None:\n",
    "            notes = part.measure(i).notes\n",
    "            beats = []\n",
    "            for n in notes:\n",
    "                beats.append(n.beat)\n",
    "                    \n",
    "        bars.append(beats)\n",
    "        i += 1\n",
    "\n",
    "    return bars"
   ]
  },
  {
   "cell_type": "code",
   "execution_count": 3,
   "metadata": {},
   "outputs": [
    {
     "name": "stdout",
     "output_type": "stream",
     "text": [
      "599 pieces were analysed.\n",
      "585 pieces were correctly parsed.\n"
     ]
    }
   ],
   "source": [
    "# Parsing the dataset with the above function\n",
    "\n",
    "data = pd.DataFrame(columns=['piece', 'notes'])\n",
    "\n",
    "path = \"./abc/_1814_698087.abc\"\n",
    "\n",
    "directory = './abc'\n",
    "\n",
    "pieces = 0 # check every piece in the directory (599) is encoded\n",
    "\n",
    "for name in os.listdir(directory):\n",
    "    pieces += 1\n",
    "    path = directory + '/' + name \n",
    "    bars = []\n",
    "    try:\n",
    "        bars = extractBeatArray(path)\n",
    "    except:\n",
    "        bars = []\n",
    "\n",
    "    if (bars != []): # not adding unparsed pieces to dataframe\n",
    "        data.loc[len(data)] = [path, bars]\n",
    "\n",
    "\n",
    "print(f\"{pieces} pieces were analysed.\")    \n",
    "\n",
    "print(f\"{len(data)} pieces were correctly parsed.\")"
   ]
  },
  {
   "cell_type": "code",
   "execution_count": 4,
   "metadata": {},
   "outputs": [],
   "source": [
    "# List of pieces that throw an exception (9)\n",
    "exceptions = ['./abc/Näckapolska_efter_Anders_Bredal_c55b3d.abc', './abc/Pollonesse_ur_Andreas_Dahlgrens_notbok_no_84_f2a90d.abc',\n",
    "'./abc/Polonäs_a39d56.abc', './abc/Polonäs_efter_Pehr_Andersson_Bild_30_nr_90_d06dcf.abc', './abc/Slängpolska_efter_Olof_Larsson_2f914f.abc',\n",
    "'./abc/_Polonesse_in_G_Moll_no_1_ur_Anders_Larssons_notbok_61aa5e.abc', './abc/_Polonesse_in_G_Måll_no_2_769438.abc', \n",
    "'./abc/_Polonäs_sexdregasamlingen_del_2_nr_70_1b9662.abc', './abc/_Polska_Kringellåt_efter_Snickar_Erik_985b63.abc']\n",
    "\n",
    "# Testing: 14 pieces are registered as note-less, for some reason. The 9 ones that threw an exception + 5 unknown others. \n",
    "# We choose to omit them from the dataset."
   ]
  },
  {
   "cell_type": "code",
   "execution_count": 5,
   "metadata": {},
   "outputs": [],
   "source": [
    "# Function that maps the beat distribution of a bar to a series of numbers between 1 and 12 (position of each sixteenth-note in the bar)\n",
    "def map_beats(notes):\n",
    "    notes_mapped = []\n",
    "    for bar in notes:\n",
    "        bar_mapped = []\n",
    "        for x in bar:\n",
    "            bar_mapped.append(int(4*(x-1)+1))\n",
    "        notes_mapped.append(bar_mapped)\n",
    "    return notes_mapped"
   ]
  },
  {
   "cell_type": "code",
   "execution_count": 6,
   "metadata": {},
   "outputs": [],
   "source": [
    "# Function that maps a series of numbers between 1 and 12 (position of each sixteenth-note in the bar) to a music21 beat distribution\n",
    "def map_beats_reverse(notes):\n",
    "    notes_mapped = []\n",
    "    for bar in notes:\n",
    "        bar_mapped = []\n",
    "        for y in bar:\n",
    "            bar_mapped.append((y+3)/4)\n",
    "        notes_mapped.append(bar_mapped)\n",
    "    return notes_mapped"
   ]
  },
  {
   "cell_type": "code",
   "execution_count": 7,
   "metadata": {},
   "outputs": [
    {
     "name": "stdout",
     "output_type": "stream",
     "text": [
      "[[1.0, 1.5, 2.0, 3.0], [1.0, 1.5, 2.0, 3.0], [1.0, 1.75, 2.0, 2.5, 3.0, 3.5], [1.0, 1.5, 1.75, 2.0, 2.5, 3.0, 3.5], [1.0, 1.5, 2.0, 3.0], [1.0, 1.5, 2.0, 3.0], [1.0, 1.75, 2.0, 2.5, 3.0, 3.5], [1.0, 1.5, 2.0], [1.0, 1.5, 2.0, 2.5, 3.0, 3.5], [1.0, 1.5, 2.0, 2.5, 3.0, 3.5], [1.0, 1.75, 2.0, 2.5, 3.0, 3.5], [1.0, 2.0, 2.25, 2.5, 2.75, 3.0, 3.5], [1.0, 1.5, 2.0, 2.5, 3.0, 3.5], [1.0, 1.5, 2.0, 2.5, 3.0, 3.5], [1.0, 1.75, 2.0, 2.5, 3.0, 3.5], [1.0, 2.0]]\n",
      "[[1, 3, 5, 9], [1, 3, 5, 9], [1, 4, 5, 7, 9, 11], [1, 3, 4, 5, 7, 9, 11], [1, 3, 5, 9], [1, 3, 5, 9], [1, 4, 5, 7, 9, 11], [1, 3, 5], [1, 3, 5, 7, 9, 11], [1, 3, 5, 7, 9, 11], [1, 4, 5, 7, 9, 11], [1, 5, 6, 7, 8, 9, 11], [1, 3, 5, 7, 9, 11], [1, 3, 5, 7, 9, 11], [1, 4, 5, 7, 9, 11], [1, 5]]\n",
      "[[1.0, 1.5, 2.0, 3.0], [1.0, 1.5, 2.0, 3.0], [1.0, 1.75, 2.0, 2.5, 3.0, 3.5], [1.0, 1.5, 1.75, 2.0, 2.5, 3.0, 3.5], [1.0, 1.5, 2.0, 3.0], [1.0, 1.5, 2.0, 3.0], [1.0, 1.75, 2.0, 2.5, 3.0, 3.5], [1.0, 1.5, 2.0], [1.0, 1.5, 2.0, 2.5, 3.0, 3.5], [1.0, 1.5, 2.0, 2.5, 3.0, 3.5], [1.0, 1.75, 2.0, 2.5, 3.0, 3.5], [1.0, 2.0, 2.25, 2.5, 2.75, 3.0, 3.5], [1.0, 1.5, 2.0, 2.5, 3.0, 3.5], [1.0, 1.5, 2.0, 2.5, 3.0, 3.5], [1.0, 1.75, 2.0, 2.5, 3.0, 3.5], [1.0, 2.0]]\n"
     ]
    }
   ],
   "source": [
    "# Testing the function\n",
    "example_notes = data[data['piece'] == './abc/_1814_698087.abc']['notes'].tolist()[0]\n",
    "# when we retrieve a specific piece and convert to list it wraps the piece's array in another array for some reason, hence the [0]\n",
    "# but when doing iterrows we don't have that problem\n",
    "print(example_notes)\n",
    "map_12 = map_beats(example_notes)\n",
    "print(map_12)\n",
    "print(map_beats_reverse(map_12))"
   ]
  },
  {
   "cell_type": "code",
   "execution_count": 8,
   "metadata": {},
   "outputs": [
    {
     "name": "stdout",
     "output_type": "stream",
     "text": [
      "Done\n"
     ]
    },
    {
     "data": {
      "text/html": [
       "<div>\n",
       "<style scoped>\n",
       "    .dataframe tbody tr th:only-of-type {\n",
       "        vertical-align: middle;\n",
       "    }\n",
       "\n",
       "    .dataframe tbody tr th {\n",
       "        vertical-align: top;\n",
       "    }\n",
       "\n",
       "    .dataframe thead th {\n",
       "        text-align: right;\n",
       "    }\n",
       "</style>\n",
       "<table border=\"1\" class=\"dataframe\">\n",
       "  <thead>\n",
       "    <tr style=\"text-align: right;\">\n",
       "      <th></th>\n",
       "      <th>piece</th>\n",
       "      <th>notes</th>\n",
       "    </tr>\n",
       "  </thead>\n",
       "  <tbody>\n",
       "    <tr>\n",
       "      <th>0</th>\n",
       "      <td>./abc/1b651a94a8f8680da3cef1e60705194d.abc</td>\n",
       "      <td>[[1, 3, 5, 6, 7, 8, 9, 11], [1, 3, 5, 6, 7, 8,...</td>\n",
       "    </tr>\n",
       "    <tr>\n",
       "      <th>1</th>\n",
       "      <td>./abc/3679c385a618c89f00d159f418022b39.abc</td>\n",
       "      <td>[[1, 3, 4, 5, 7, 8, 9, 11], [1, 4, 5, 6, 7, 8,...</td>\n",
       "    </tr>\n",
       "    <tr>\n",
       "      <th>2</th>\n",
       "      <td>./abc/60ae81952628613e03d563b0dae8bbc2.abc</td>\n",
       "      <td>[[1, 4, 5, 7, 9, 10, 11, 12], [1, 3, 5, 9, 11]]</td>\n",
       "    </tr>\n",
       "    <tr>\n",
       "      <th>3</th>\n",
       "      <td>./abc/6a7d307d1f0712090e4043a6b4637efa.abc</td>\n",
       "      <td>[[1, 5, 9], [1, 1, 3, 4, 5, 7, 9, 11], [1, 4, ...</td>\n",
       "    </tr>\n",
       "    <tr>\n",
       "      <th>4</th>\n",
       "      <td>./abc/8c6965e3c831e8cb769e578423c12d1e.abc</td>\n",
       "      <td>[[1, 5, 7, 8, 9], [1, 3, 4, 5, 6, 7, 8, 9, 10,...</td>\n",
       "    </tr>\n",
       "  </tbody>\n",
       "</table>\n",
       "</div>"
      ],
      "text/plain": [
       "                                        piece  \\\n",
       "0  ./abc/1b651a94a8f8680da3cef1e60705194d.abc   \n",
       "1  ./abc/3679c385a618c89f00d159f418022b39.abc   \n",
       "2  ./abc/60ae81952628613e03d563b0dae8bbc2.abc   \n",
       "3  ./abc/6a7d307d1f0712090e4043a6b4637efa.abc   \n",
       "4  ./abc/8c6965e3c831e8cb769e578423c12d1e.abc   \n",
       "\n",
       "                                               notes  \n",
       "0  [[1, 3, 5, 6, 7, 8, 9, 11], [1, 3, 5, 6, 7, 8,...  \n",
       "1  [[1, 3, 4, 5, 7, 8, 9, 11], [1, 4, 5, 6, 7, 8,...  \n",
       "2    [[1, 4, 5, 7, 9, 10, 11, 12], [1, 3, 5, 9, 11]]  \n",
       "3  [[1, 5, 9], [1, 1, 3, 4, 5, 7, 9, 11], [1, 4, ...  \n",
       "4  [[1, 5, 7, 8, 9], [1, 3, 4, 5, 6, 7, 8, 9, 10,...  "
      ]
     },
     "execution_count": 8,
     "metadata": {},
     "output_type": "execute_result"
    }
   ],
   "source": [
    "# Using the mapping function on every piece\n",
    "data_mapped = data.copy()\n",
    "\n",
    "for _, d in data_mapped.iterrows():\n",
    "    d['notes'] = map_beats(d['notes'])\n",
    "\n",
    "print(\"Done\")\n",
    "\n",
    "data_mapped.head() # our dataframe for the model!"
   ]
  },
  {
   "cell_type": "code",
   "execution_count": 9,
   "metadata": {},
   "outputs": [
    {
     "name": "stdout",
     "output_type": "stream",
     "text": [
      "438\n",
      "147\n"
     ]
    }
   ],
   "source": [
    "# Splitting the data into train and test\n",
    "from sklearn.model_selection import train_test_split\n",
    "\n",
    "x_train, x_test = train_test_split(data_mapped) # split 75% train 25% test\n",
    "\n",
    "print(len(x_train))\n",
    "print(len(x_test))"
   ]
  },
  {
   "cell_type": "code",
   "execution_count": 10,
   "metadata": {},
   "outputs": [],
   "source": [
    "# Writing train and test to csv\n",
    "x_train.to_csv(\"train.csv\", index=False)\n",
    "x_test.to_csv(\"test.csv\", index=False)"
   ]
  },
  {
   "attachments": {},
   "cell_type": "markdown",
   "metadata": {},
   "source": [
    "**Part 2: The Random Model**\n",
    "\n",
    "**Goal:** generate random 8-bar rhythms. The only constraint is the the minimal note duration is a sixteenth note."
   ]
  },
  {
   "cell_type": "code",
   "execution_count": 12,
   "metadata": {},
   "outputs": [],
   "source": [
    "import random\n",
    "\n",
    "random.seed(1113)"
   ]
  },
  {
   "cell_type": "code",
   "execution_count": 15,
   "metadata": {},
   "outputs": [],
   "source": [
    "# function to fill a bar with random notes\n",
    "def random_bar():\n",
    "    # first = True\n",
    "    first = False\n",
    "    # first decide how many notes are in the bar\n",
    "    # (the tempo is always 3/4)\n",
    "    bar = []\n",
    "    for i in range(11):\n",
    "        # decide if a note is played\n",
    "        if first:\n",
    "            bar.append(1.0)\n",
    "            first = False\n",
    "        elif random.random() < 0.5:\n",
    "            # if yes, decide which note\n",
    "            bar.append((i/4)+1)\n",
    "        # check that the bar is not empty\n",
    "    if len(bar) == 0:\n",
    "        bar = random_bar()\n",
    "    return bar\n",
    "\n",
    "# function to create a random song\n",
    "def create_random_song():\n",
    "    # make a list with 8 lists (bars) inside\n",
    "    n_bars = 8\n",
    "    random_song = [[] for j in range(n_bars)]\n",
    "    # for each list in random_song fill it with random notes\n",
    "    for i in range(n_bars):\n",
    "        random_song[i] = random_bar()\n",
    "    return random_song"
   ]
  },
  {
   "cell_type": "code",
   "execution_count": 18,
   "metadata": {},
   "outputs": [
    {
     "name": "stdout",
     "output_type": "stream",
     "text": [
      "Random song example: \n",
      "[[1.0, 1.75, 2.0, 3.0, 3.25, 3.5], [1.25, 2.5, 3.25, 3.5], [1.25, 1.5, 2.25, 2.75, 3.0, 3.25], [1.0, 1.75, 2.0, 2.5, 2.75, 3.25, 3.5], [1.0, 1.25, 2.0, 2.75, 3.0, 3.25, 3.5], [1.25, 2.0, 2.75, 3.0, 3.25, 3.5], [1.0, 1.25, 2.25, 2.5, 2.75, 3.0, 3.25], [1.25, 1.5, 1.75, 2.0, 2.25, 2.75, 3.0, 3.25]]\n"
     ]
    }
   ],
   "source": [
    "# example\n",
    "random_song = create_random_song()\n",
    "print('Random song example: ')\n",
    "print(random_song)"
   ]
  },
  {
   "cell_type": "code",
   "execution_count": 19,
   "metadata": {},
   "outputs": [],
   "source": [
    "# function to convert from beats into durations\n",
    "def convert_to_duration(random_song_list):\n",
    "    last = 4.0\n",
    "    # read the list backwards\n",
    "    random_song_list.reverse()\n",
    "    # create a list with the duration of each note\n",
    "    duration_list = []\n",
    "    for bar in random_song_list:\n",
    "        # reverse the inner list\n",
    "        bar.reverse()\n",
    "        for note in bar:\n",
    "            duration_list.append(last - note)\n",
    "            last = note\n",
    "        last += 4.0\n",
    "    # reverse the list again\n",
    "    duration_list.reverse()\n",
    "    # return original order to original song aswell\n",
    "    random_song_list.reverse()\n",
    "    for bar in random_song_list:\n",
    "        bar.reverse()\n",
    "    return duration_list"
   ]
  },
  {
   "cell_type": "code",
   "execution_count": 21,
   "metadata": {},
   "outputs": [
    {
     "name": "stdout",
     "output_type": "stream",
     "text": [
      "Duration list example: \n",
      "[0.75, 0.25, 1.0, 0.25, 0.25, 1.75, 1.25, 0.75, 0.25, 1.75, 0.25, 0.75, 0.5, 0.25, 0.25, 1.75, 0.75, 0.25, 0.5, 0.25, 0.5, 0.25, 1.5, 0.25, 0.75, 0.75, 0.25, 0.25, 0.25, 1.75, 0.75, 0.75, 0.25, 0.25, 0.25, 1.5, 0.25, 1.0, 0.25, 0.25, 0.25, 0.25, 2.0, 0.25, 0.25, 0.25, 0.25, 0.5, 0.25, 0.25, 0.75]\n"
     ]
    }
   ],
   "source": [
    "# example\n",
    "duration_list = convert_to_duration(random_song)\n",
    "print('Duration list example: ')\n",
    "print(duration_list)"
   ]
  },
  {
   "cell_type": "code",
   "execution_count": 27,
   "metadata": {},
   "outputs": [],
   "source": [
    "# function to convert the duration list into a music21 stream\n",
    "def convert_to_stream(duration_list):\n",
    "    # create an empty stream\n",
    "    stream = music21.stream.Stream()\n",
    "    # define the tempo as 3/4\n",
    "    stream.append(music21.meter.TimeSignature('3/4'))\n",
    "    # create note\n",
    "    # assign random pitch (C4)\n",
    "    # assign duration (quarter)\n",
    "    # append the note into empty stream\n",
    "    for duration in duration_list:\n",
    "        note = music21.note.Note(pitch='C4', quarterLength=duration)\n",
    "        stream.append(note)\n",
    "    return stream"
   ]
  },
  {
   "cell_type": "code",
   "execution_count": 30,
   "metadata": {},
   "outputs": [
    {
     "name": "stdout",
     "output_type": "stream",
     "text": [
      "Random song example with map_beats: \n",
      "[[1, 4, 5, 9, 10, 11], [2, 7, 10, 11], [2, 3, 6, 8, 9, 10], [1, 4, 5, 7, 8, 10, 11], [1, 2, 5, 8, 9, 10, 11], [2, 5, 8, 9, 10, 11], [1, 2, 6, 7, 8, 9, 10], [2, 3, 4, 5, 6, 8, 9, 10]]\n"
     ]
    },
    {
     "data": {
      "text/html": [
       "\n",
       "                <div id=\"midiPlayerDiv171758\"></div>\n",
       "                <link rel=\"stylesheet\" href=\"//cuthbertLab.github.io/music21j/css/m21.css\"\n",
       "                    type=\"text/css\" />\n",
       "                \n",
       "                <script>\n",
       "                require.config({\n",
       "                    paths: {'music21': '//cuthbertLab.github.io/music21j/src/music21'}\n",
       "                });\n",
       "                require(['music21'], function() {\n",
       "                               mp = new music21.miditools.MidiPlayer();\n",
       "                               mp.addPlayer(\"#midiPlayerDiv171758\");\n",
       "                               mp.base64Load(\"data:audio/midi;base64,TVRoZAAAAAYAAQACBABNVHJrAAAAFAD/UQMHoSAA/1gEAwIYCIgA/y8ATVRyawAAAdkA/wMAAOAAQIgAkDxahgCAPAAAkDxaggCAPAAAkDxaiACAPAAAkDxaggCAPAAAkDxaggCAPAAAkDxajgCAPAAAkDxaigCAPAAAkDxahgCAPAAAkDxaggCAPAAAkDxajgCAPAAAkDxaggCAPAAAkDxahgCAPAAAkDxahACAPAAAkDxaggCAPAAAkDxaggCAPAAAkDxajgCAPAAAkDxahgCAPAAAkDxaggCAPAAAkDxahACAPAAAkDxaggCAPAAAkDxahACAPAAAkDxaggCAPAAAkDxajACAPAAAkDxaggCAPAAAkDxahgCAPAAAkDxahgCAPAAAkDxaggCAPAAAkDxaggCAPAAAkDxaggCAPAAAkDxajgCAPAAAkDxahgCAPAAAkDxahgCAPAAAkDxaggCAPAAAkDxaggCAPAAAkDxaggCAPAAAkDxajACAPAAAkDxaggCAPAAAkDxaiACAPAAAkDxaggCAPAAAkDxaggCAPAAAkDxaggCAPAAAkDxaggCAPAAAkDxakACAPAAAkDxaggCAPAAAkDxaggCAPAAAkDxaggCAPAAAkDxaggCAPAAAkDxahACAPAAAkDxaggCAPAAAkDxaggCAPAAAkDxahgCAPACIAP8vAA==\");\n",
       "                        });\n",
       "                </script>"
      ],
      "text/plain": [
       "<IPython.core.display.HTML object>"
      ]
     },
     "metadata": {},
     "output_type": "display_data"
    }
   ],
   "source": [
    "# example\n",
    "stream = convert_to_stream(duration_list)\n",
    "\n",
    "# print with map_beats convertion (map_beats function from Part 1)\n",
    "print('Random song example with map_beats: ')\n",
    "print(map_beats(random_song))\n",
    "\n",
    "# play the stream\n",
    "stream.show('midi')"
   ]
  },
  {
   "cell_type": "code",
   "execution_count": 33,
   "metadata": {},
   "outputs": [
    {
     "name": "stdout",
     "output_type": "stream",
     "text": [
      "500 random songs generated.\n"
     ]
    },
    {
     "data": {
      "text/html": [
       "<div>\n",
       "<style scoped>\n",
       "    .dataframe tbody tr th:only-of-type {\n",
       "        vertical-align: middle;\n",
       "    }\n",
       "\n",
       "    .dataframe tbody tr th {\n",
       "        vertical-align: top;\n",
       "    }\n",
       "\n",
       "    .dataframe thead th {\n",
       "        text-align: right;\n",
       "    }\n",
       "</style>\n",
       "<table border=\"1\" class=\"dataframe\">\n",
       "  <thead>\n",
       "    <tr style=\"text-align: right;\">\n",
       "      <th></th>\n",
       "      <th>id</th>\n",
       "      <th>notes</th>\n",
       "    </tr>\n",
       "  </thead>\n",
       "  <tbody>\n",
       "    <tr>\n",
       "      <th>0</th>\n",
       "      <td>0</td>\n",
       "      <td>[[2, 3, 6, 7, 9, 11], [1, 2, 3, 5, 6, 7, 8, 9,...</td>\n",
       "    </tr>\n",
       "    <tr>\n",
       "      <th>1</th>\n",
       "      <td>1</td>\n",
       "      <td>[[1, 2, 3, 5, 7, 8, 10, 11], [5, 7, 8, 11], [1...</td>\n",
       "    </tr>\n",
       "    <tr>\n",
       "      <th>2</th>\n",
       "      <td>2</td>\n",
       "      <td>[[1, 3, 5, 8, 9], [2, 3, 4, 7, 8, 11], [2, 5, ...</td>\n",
       "    </tr>\n",
       "    <tr>\n",
       "      <th>3</th>\n",
       "      <td>3</td>\n",
       "      <td>[[1, 6, 7, 8, 11], [1, 3, 4, 5, 8, 10, 11], [1...</td>\n",
       "    </tr>\n",
       "    <tr>\n",
       "      <th>4</th>\n",
       "      <td>4</td>\n",
       "      <td>[[3, 4, 5, 6, 7, 9, 10], [1, 2, 5, 6, 8, 9, 11...</td>\n",
       "    </tr>\n",
       "  </tbody>\n",
       "</table>\n",
       "</div>"
      ],
      "text/plain": [
       "   id                                              notes\n",
       "0   0  [[2, 3, 6, 7, 9, 11], [1, 2, 3, 5, 6, 7, 8, 9,...\n",
       "1   1  [[1, 2, 3, 5, 7, 8, 10, 11], [5, 7, 8, 11], [1...\n",
       "2   2  [[1, 3, 5, 8, 9], [2, 3, 4, 7, 8, 11], [2, 5, ...\n",
       "3   3  [[1, 6, 7, 8, 11], [1, 3, 4, 5, 8, 10, 11], [1...\n",
       "4   4  [[3, 4, 5, 6, 7, 9, 10], [1, 2, 5, 6, 8, 9, 11..."
      ]
     },
     "execution_count": 33,
     "metadata": {},
     "output_type": "execute_result"
    }
   ],
   "source": [
    "# produce a dataframe size 500 samples and save it as csv\n",
    "def produce_dataframe():\n",
    "    df = pd.DataFrame(columns=['id', 'notes'])\n",
    "    for i in range(500):\n",
    "        random_song = create_random_song()\n",
    "        # df = df.append({'id': i, 'notes': map_beats(random_song)}, ignore_index=True)\n",
    "        df.loc[len(df)] = [i, map_beats(random_song)]\n",
    "    df.to_csv('random_songs.csv', index=False)\n",
    "    return df\n",
    "\n",
    "df = produce_dataframe()\n",
    "print(f\"{len(df)} random songs generated.\")\n",
    "df.head()"
   ]
  },
  {
   "attachments": {},
   "cell_type": "markdown",
   "metadata": {},
   "source": [
    "**Part 3: The Generation Model**\n",
    "\n",
    "**Goal:** generate \"human-like\" 8-bar rhythms in the style of Slängpolska. We will use a bigram-based Markov chain model, trained on 75% of the dataset as per the train-test split done in part 1."
   ]
  },
  {
   "attachments": {},
   "cell_type": "markdown",
   "metadata": {},
   "source": [
    "**Part 4: Results, Metric, Evaluation**\n",
    "\n",
    "**Goal:** evaluate the results of the random model, the original dataset, and our generation model, and compare the three. We will also highlight one good sample and one bad sample from our generation model."
   ]
  }
 ],
 "metadata": {
  "kernelspec": {
   "display_name": "ada",
   "language": "python",
   "name": "python3"
  },
  "language_info": {
   "codemirror_mode": {
    "name": "ipython",
    "version": 3
   },
   "file_extension": ".py",
   "mimetype": "text/x-python",
   "name": "python",
   "nbconvert_exporter": "python",
   "pygments_lexer": "ipython3",
   "version": "3.9.13"
  },
  "orig_nbformat": 4
 },
 "nbformat": 4,
 "nbformat_minor": 2
}
